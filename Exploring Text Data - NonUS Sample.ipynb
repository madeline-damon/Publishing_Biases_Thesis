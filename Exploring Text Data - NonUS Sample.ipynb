{
 "cells": [
  {
   "cell_type": "markdown",
   "id": "15fef3af",
   "metadata": {},
   "source": [
    "# NonUS Text Data\n",
    "\n",
    "35,142 records were classified as NonUS researchers. In previous notebooks, this was accomplished by extracting author addresses and determining which resided in the US and which reside outside the US."
   ]
  },
  {
   "cell_type": "code",
   "execution_count": 1,
   "id": "29a7e5a5",
   "metadata": {},
   "outputs": [],
   "source": [
    "import pandas as pd\n",
    "\n",
    "import nltk\n",
    "from collections import Counter\n",
    "from nltk.corpus import stopwords\n",
    "from nltk import FreqDist\n",
    "from nltk.util import ngrams\n",
    "from nltk.stem import WordNetLemmatizer\n",
    "\n",
    "import matplotlib.pyplot as plt\n",
    "\n",
    "import numpy as np\n",
    "import scipy\n",
    "\n",
    "sw = stopwords.words(\"english\")"
   ]
  },
  {
   "cell_type": "code",
   "execution_count": 2,
   "id": "41a33a71",
   "metadata": {},
   "outputs": [],
   "source": [
    "data=pd.read_csv(\"Full_NonUS_Records.csv\", \n",
    "                 usecols= ['Article Title','Source Title','Author Keywords','Abstract',\n",
    "                          'Times Cited, All Databases','Publisher', 'First_A_Country'])"
   ]
  },
  {
   "cell_type": "code",
   "execution_count": 3,
   "id": "f596c961",
   "metadata": {},
   "outputs": [
    {
     "data": {
      "text/html": [
       "<div>\n",
       "<style scoped>\n",
       "    .dataframe tbody tr th:only-of-type {\n",
       "        vertical-align: middle;\n",
       "    }\n",
       "\n",
       "    .dataframe tbody tr th {\n",
       "        vertical-align: top;\n",
       "    }\n",
       "\n",
       "    .dataframe thead th {\n",
       "        text-align: right;\n",
       "    }\n",
       "</style>\n",
       "<table border=\"1\" class=\"dataframe\">\n",
       "  <thead>\n",
       "    <tr style=\"text-align: right;\">\n",
       "      <th></th>\n",
       "      <th>Article Title</th>\n",
       "      <th>Source Title</th>\n",
       "      <th>Author Keywords</th>\n",
       "      <th>Abstract</th>\n",
       "      <th>Times Cited, All Databases</th>\n",
       "      <th>Publisher</th>\n",
       "      <th>First_A_Country</th>\n",
       "    </tr>\n",
       "  </thead>\n",
       "  <tbody>\n",
       "    <tr>\n",
       "      <th>0</th>\n",
       "      <td>Spatio-temporal variation in tick community co...</td>\n",
       "      <td>AFRICAN JOURNAL OF ECOLOGY</td>\n",
       "      <td>host availability; human settlement; Rhipiceph...</td>\n",
       "      <td>Human settlement expansion around Nyanga Natio...</td>\n",
       "      <td>0</td>\n",
       "      <td>WILEY</td>\n",
       "      <td>Zimbabwe</td>\n",
       "    </tr>\n",
       "    <tr>\n",
       "      <th>1</th>\n",
       "      <td>Sero-prevalence of chlamydiosis in cattle and ...</td>\n",
       "      <td>TROPICAL ANIMAL HEALTH AND PRODUCTION</td>\n",
       "      <td>Chlamydiosis; Abortion; Zoonosis; Cattle; Wild...</td>\n",
       "      <td>A study was conducted to investigate the serop...</td>\n",
       "      <td>5</td>\n",
       "      <td>SPRINGER</td>\n",
       "      <td>Zimbabwe</td>\n",
       "    </tr>\n",
       "    <tr>\n",
       "      <th>2</th>\n",
       "      <td>Interactions between humans, crocodiles, and h...</td>\n",
       "      <td>HUMAN-WILDLIFE INTERACTIONS</td>\n",
       "      <td>African hippopotamus; Crocodylus niloticus; ec...</td>\n",
       "      <td>Human-wildlife conflicts (HWCs) are on the inc...</td>\n",
       "      <td>3</td>\n",
       "      <td>JACK H BERRYMAN INST</td>\n",
       "      <td>Zimbabwe</td>\n",
       "    </tr>\n",
       "    <tr>\n",
       "      <th>3</th>\n",
       "      <td>Human-wildlife tourism conflict: towards an in...</td>\n",
       "      <td>GEOJOURNAL</td>\n",
       "      <td>Local communities; Livelihoods; Sustainability...</td>\n",
       "      <td>The study examines wildlife tourism and local ...</td>\n",
       "      <td>0</td>\n",
       "      <td>SPRINGER</td>\n",
       "      <td>Zimbabwe</td>\n",
       "    </tr>\n",
       "    <tr>\n",
       "      <th>4</th>\n",
       "      <td>An assessment of human-wildlife conflicts in l...</td>\n",
       "      <td>GLOBAL ECOLOGY AND CONSERVATION</td>\n",
       "      <td>Crop raiding; Human-wildlife conflicts; Local ...</td>\n",
       "      <td>Human-wildlife conflicts (HWCs) occur around t...</td>\n",
       "      <td>22</td>\n",
       "      <td>ELSEVIER</td>\n",
       "      <td>Zimbabwe</td>\n",
       "    </tr>\n",
       "    <tr>\n",
       "      <th>...</th>\n",
       "      <td>...</td>\n",
       "      <td>...</td>\n",
       "      <td>...</td>\n",
       "      <td>...</td>\n",
       "      <td>...</td>\n",
       "      <td>...</td>\n",
       "      <td>...</td>\n",
       "    </tr>\n",
       "    <tr>\n",
       "      <th>35137</th>\n",
       "      <td>Combined effects of moderate hypoxia, pesticid...</td>\n",
       "      <td>AQUATIC TOXICOLOGY</td>\n",
       "      <td>Moderate hypoxia; Carp fish; Combined stressor...</td>\n",
       "      <td>Nowadays, depletion of oxygen or hypoxia has b...</td>\n",
       "      <td>35</td>\n",
       "      <td>ELSEVIER</td>\n",
       "      <td>Albania</td>\n",
       "    </tr>\n",
       "    <tr>\n",
       "      <th>35138</th>\n",
       "      <td>Ecological particularities of the critically e...</td>\n",
       "      <td>KNOWLEDGE AND MANAGEMENT OF AQUATIC ECOSYSTEMS</td>\n",
       "      <td>Valencia letourneuxi; Lake Butrinti; conservat...</td>\n",
       "      <td>The southernmost part of Albania, the Butrinti...</td>\n",
       "      <td>2</td>\n",
       "      <td>EDP SCIENCES S A</td>\n",
       "      <td>Albania</td>\n",
       "    </tr>\n",
       "    <tr>\n",
       "      <th>35139</th>\n",
       "      <td>Assessing wildfire vulnerability of vegetated ...</td>\n",
       "      <td>JOURNAL FOR NATURE CONSERVATION</td>\n",
       "      <td>Plant heat zones; Ultramafic; Wildfire ignitio...</td>\n",
       "      <td>The endemic vegetation on serpentine soils is ...</td>\n",
       "      <td>0</td>\n",
       "      <td>ELSEVIER GMBH</td>\n",
       "      <td>Albania</td>\n",
       "    </tr>\n",
       "    <tr>\n",
       "      <th>35140</th>\n",
       "      <td>Hunting in Afghanistan: variation in motivatio...</td>\n",
       "      <td>ORYX</td>\n",
       "      <td>Afghanistan; human-wildlife conflict; hunting;...</td>\n",
       "      <td>Illegal hunting is a widespread problem, with ...</td>\n",
       "      <td>8</td>\n",
       "      <td>CAMBRIDGE UNIV PRESS</td>\n",
       "      <td>Afghanistan</td>\n",
       "    </tr>\n",
       "    <tr>\n",
       "      <th>35141</th>\n",
       "      <td>Using double-observer surveys to monitor urial...</td>\n",
       "      <td>ORYX</td>\n",
       "      <td>Capra sibirica; density; double-observer surve...</td>\n",
       "      <td>We surveyed the urial Ovis vignei and Siberian...</td>\n",
       "      <td>0</td>\n",
       "      <td>CAMBRIDGE UNIV PRESS</td>\n",
       "      <td>Afghanistan</td>\n",
       "    </tr>\n",
       "  </tbody>\n",
       "</table>\n",
       "<p>35142 rows × 7 columns</p>\n",
       "</div>"
      ],
      "text/plain": [
       "                                           Article Title  \\\n",
       "0      Spatio-temporal variation in tick community co...   \n",
       "1      Sero-prevalence of chlamydiosis in cattle and ...   \n",
       "2      Interactions between humans, crocodiles, and h...   \n",
       "3      Human-wildlife tourism conflict: towards an in...   \n",
       "4      An assessment of human-wildlife conflicts in l...   \n",
       "...                                                  ...   \n",
       "35137  Combined effects of moderate hypoxia, pesticid...   \n",
       "35138  Ecological particularities of the critically e...   \n",
       "35139  Assessing wildfire vulnerability of vegetated ...   \n",
       "35140  Hunting in Afghanistan: variation in motivatio...   \n",
       "35141  Using double-observer surveys to monitor urial...   \n",
       "\n",
       "                                         Source Title  \\\n",
       "0                          AFRICAN JOURNAL OF ECOLOGY   \n",
       "1               TROPICAL ANIMAL HEALTH AND PRODUCTION   \n",
       "2                         HUMAN-WILDLIFE INTERACTIONS   \n",
       "3                                          GEOJOURNAL   \n",
       "4                     GLOBAL ECOLOGY AND CONSERVATION   \n",
       "...                                               ...   \n",
       "35137                              AQUATIC TOXICOLOGY   \n",
       "35138  KNOWLEDGE AND MANAGEMENT OF AQUATIC ECOSYSTEMS   \n",
       "35139                 JOURNAL FOR NATURE CONSERVATION   \n",
       "35140                                            ORYX   \n",
       "35141                                            ORYX   \n",
       "\n",
       "                                         Author Keywords  \\\n",
       "0      host availability; human settlement; Rhipiceph...   \n",
       "1      Chlamydiosis; Abortion; Zoonosis; Cattle; Wild...   \n",
       "2      African hippopotamus; Crocodylus niloticus; ec...   \n",
       "3      Local communities; Livelihoods; Sustainability...   \n",
       "4      Crop raiding; Human-wildlife conflicts; Local ...   \n",
       "...                                                  ...   \n",
       "35137  Moderate hypoxia; Carp fish; Combined stressor...   \n",
       "35138  Valencia letourneuxi; Lake Butrinti; conservat...   \n",
       "35139  Plant heat zones; Ultramafic; Wildfire ignitio...   \n",
       "35140  Afghanistan; human-wildlife conflict; hunting;...   \n",
       "35141  Capra sibirica; density; double-observer surve...   \n",
       "\n",
       "                                                Abstract  \\\n",
       "0      Human settlement expansion around Nyanga Natio...   \n",
       "1      A study was conducted to investigate the serop...   \n",
       "2      Human-wildlife conflicts (HWCs) are on the inc...   \n",
       "3      The study examines wildlife tourism and local ...   \n",
       "4      Human-wildlife conflicts (HWCs) occur around t...   \n",
       "...                                                  ...   \n",
       "35137  Nowadays, depletion of oxygen or hypoxia has b...   \n",
       "35138  The southernmost part of Albania, the Butrinti...   \n",
       "35139  The endemic vegetation on serpentine soils is ...   \n",
       "35140  Illegal hunting is a widespread problem, with ...   \n",
       "35141  We surveyed the urial Ovis vignei and Siberian...   \n",
       "\n",
       "       Times Cited, All Databases             Publisher First_A_Country  \n",
       "0                               0                 WILEY        Zimbabwe  \n",
       "1                               5              SPRINGER        Zimbabwe  \n",
       "2                               3  JACK H BERRYMAN INST        Zimbabwe  \n",
       "3                               0              SPRINGER        Zimbabwe  \n",
       "4                              22              ELSEVIER        Zimbabwe  \n",
       "...                           ...                   ...             ...  \n",
       "35137                          35              ELSEVIER         Albania  \n",
       "35138                           2      EDP SCIENCES S A         Albania  \n",
       "35139                           0         ELSEVIER GMBH         Albania  \n",
       "35140                           8  CAMBRIDGE UNIV PRESS     Afghanistan  \n",
       "35141                           0  CAMBRIDGE UNIV PRESS     Afghanistan  \n",
       "\n",
       "[35142 rows x 7 columns]"
      ]
     },
     "execution_count": 3,
     "metadata": {},
     "output_type": "execute_result"
    }
   ],
   "source": [
    "data"
   ]
  },
  {
   "cell_type": "markdown",
   "id": "60e99c52",
   "metadata": {},
   "source": [
    "## Sample Composition"
   ]
  },
  {
   "cell_type": "code",
   "execution_count": 11,
   "id": "0ecf59e1",
   "metadata": {},
   "outputs": [],
   "source": [
    "countries=data['First_A_Country']"
   ]
  },
  {
   "cell_type": "code",
   "execution_count": 12,
   "id": "f8e498ec",
   "metadata": {},
   "outputs": [
    {
     "data": {
      "image/png": "[encoded data removed]",
      "text/plain": [
       "<Figure size 640x480 with 1 Axes>"
      ]
     },
     "metadata": {},
     "output_type": "display_data"
    },
    {
     "data": {
      "text/plain": [
       "<AxesSubplot:xlabel='Samples', ylabel='Counts'>"
      ]
     },
     "execution_count": 12,
     "metadata": {},
     "output_type": "execute_result"
    }
   ],
   "source": [
    "fdist=FreqDist(countries)\n",
    "fdist.plot(50)"
   ]
  },
  {
   "cell_type": "markdown",
   "id": "dc90a8f1",
   "metadata": {},
   "source": [
    "## Keyword Data"
   ]
  },
  {
   "cell_type": "code",
   "execution_count": 4,
   "id": "d0eb3e02",
   "metadata": {},
   "outputs": [],
   "source": [
    "keywords=data['Author Keywords'] ##saving just the keywords column"
   ]
  },
  {
   "cell_type": "code",
   "execution_count": 5,
   "id": "5a552951",
   "metadata": {},
   "outputs": [
    {
     "data": {
      "text/plain": [
       "35142"
      ]
     },
     "execution_count": 5,
     "metadata": {},
     "output_type": "execute_result"
    }
   ],
   "source": [
    "keyword_data=[] ##creating a list to store string of data\n",
    "\n",
    "for item in keywords:  #Make everything in the column  a string of text\n",
    "    string=str(item)\n",
    "    keyword_data.append(string)\n",
    "    \n",
    "len(keyword_data)"
   ]
  },
  {
   "cell_type": "code",
   "execution_count": 6,
   "id": "9487a610",
   "metadata": {},
   "outputs": [
    {
     "data": {
      "text/plain": [
       "'host availability; human settlement; Rhipicephalus appendiculatus; Rhipicephalus zambeziensis; ticks; wildlife-livestock interaction'"
      ]
     },
     "execution_count": 6,
     "metadata": {},
     "output_type": "execute_result"
    }
   ],
   "source": [
    "keyword_data[0]"
   ]
  },
  {
   "cell_type": "code",
   "execution_count": 15,
   "id": "65694f21",
   "metadata": {},
   "outputs": [],
   "source": [
    "tokens=nltk.word_tokenize(str(keyword_data))"
   ]
  },
  {
   "cell_type": "code",
   "execution_count": 16,
   "id": "4e630835",
   "metadata": {},
   "outputs": [],
   "source": [
    "cleaned_tokens=[] ##Space to store clean tokens\n",
    "\n",
    "for w in tokens:\n",
    "        if w not tokens=nltk.word_tokenize(str(keyword_data))in sw and w.isalpha(): #Removing tokens including stopwords and punctuation\n",
    "            cleaned_tokens.append(w.lower())    ##Make everything lowercase\n"
   ]
  },
  {
   "cell_type": "code",
   "execution_count": 17,
   "id": "9860dd2c",
   "metadata": {},
   "outputs": [
    {
     "data": {
      "text/plain": [
       "['availability',\n",
       " 'human',\n",
       " 'settlement',\n",
       " 'rhipicephalus',\n",
       " 'appendiculatus',\n",
       " 'rhipicephalus',\n",
       " 'zambeziensis',\n",
       " 'ticks',\n",
       " 'interaction',\n",
       " 'abortion',\n",
       " 'zoonosis',\n",
       " 'cattle',\n",
       " 'wildlife',\n",
       " 'hippopotamus',\n",
       " 'crocodylus',\n",
       " 'niloticus',\n",
       " 'economic',\n",
       " 'hardships',\n",
       " 'fishing',\n",
       " 'hippopotamus']"
      ]
     },
     "execution_count": 17,
     "metadata": {},
     "output_type": "execute_result"
    }
   ],
   "source": [
    "cleaned_tokens[:20]"
   ]
  },
  {
   "cell_type": "code",
   "execution_count": 18,
   "id": "f8aaae45",
   "metadata": {},
   "outputs": [
    {
     "data": {
      "image/png": "[encoded data removed]",
      "text/plain": [
       "<Figure size 640x480 with 1 Axes>"
      ]
     },
     "metadata": {},
     "output_type": "display_data"
    },
    {
     "data": {
      "text/plain": [
       "<AxesSubplot:xlabel='Samples', ylabel='Counts'>"
      ]
     },
     "execution_count": 18,
     "metadata": {},
     "output_type": "execute_result"
    }
   ],
   "source": [
    "#Visualizing the most common keywords\n",
    "\n",
    "fdist = FreqDist(cleaned_tokens)\n",
    "    \n",
    "    \n",
    "fdist.plot(20)"
   ]
  },
  {
   "cell_type": "markdown",
   "id": "0454713a",
   "metadata": {},
   "source": [
    "### Bigrams - Keyword Data"
   ]
  },
  {
   "cell_type": "code",
   "execution_count": 27,
   "id": "bac9e140",
   "metadata": {},
   "outputs": [
    {
     "data": {
      "text/plain": [
       "35142"
      ]
     },
     "execution_count": 27,
     "metadata": {},
     "output_type": "execute_result"
    }
   ],
   "source": [
    "keyword_bigrams=[]\n",
    "\n",
    "for words in keyword_data:\n",
    "    tokens = nltk.word_tokenize(words)\n",
    "    tokens = [t.lower() for t in tokens if t not in sw]\n",
    "    word_l = WordNetLemmatizer()\n",
    "    tokens = [word_l.lemmatize(t) for t in tokens if t.isalpha()]\n",
    "\n",
    "    bi_grams = list(ngrams(tokens, 2))\n",
    "    \n",
    "    \n",
    "    keyword_bigrams.append(bi_grams)\n",
    "\n",
    "len(keyword_bigrams)\n",
    " ##currently bigrams is a list of lists of bigrams"
   ]
  },
  {
   "cell_type": "code",
   "execution_count": 28,
   "id": "8e1c5034",
   "metadata": {},
   "outputs": [
    {
     "data": {
      "text/plain": [
       "[(('protected', 'area'), 1317),\n",
       " (('climate', 'change'), 1195),\n",
       " (('marine', 'protected'), 833),\n",
       " (('stable', 'isotope'), 522),\n",
       " (('coral', 'reef'), 516),\n",
       " (('specie', 'distribution'), 417),\n",
       " (('mediterranean', 'sea'), 396),\n",
       " (('ecosystem', 'service'), 389),\n",
       " (('fishery', 'management'), 387),\n",
       " (('wildlife', 'management'), 360),\n",
       " (('wildlife', 'trade'), 355),\n",
       " (('risk', 'assessment'), 321),\n",
       " (('invasive', 'specie'), 312),\n",
       " (('marine', 'ecosystem'), 304),\n",
       " (('biodiversity', 'conservation'), 300),\n",
       " (('marine', 'mammal'), 276),\n",
       " (('endangered', 'specie'), 266),\n",
       " (('food', 'web'), 263),\n",
       " (('ecological', 'risk'), 262),\n",
       " (('spatial', 'planning'), 262),\n",
       " (('heavy', 'metal'), 258),\n",
       " (('marine', 'conservation'), 251),\n",
       " (('citizen', 'science'), 248),\n",
       " (('national', 'park'), 239),\n",
       " (('threatened', 'specie'), 239),\n",
       " (('distribution', 'model'), 226),\n",
       " (('remote', 'sensing'), 221),\n",
       " (('wildlife', 'conservation'), 212),\n",
       " (('camera', 'trap'), 212),\n",
       " (('genetic', 'diversity'), 212)]"
      ]
     },
     "execution_count": 28,
     "metadata": {},
     "output_type": "execute_result"
    }
   ],
   "source": [
    "# how to flatten list of lists\n",
    " \n",
    "# using list comprehension\n",
    "all_keyword_bigrams = [item for sublist in keyword_bigrams for item in sublist]\n",
    "all_keyword_bigrams\n",
    "\n",
    "# counting all bigrams\n",
    "counter = Counter(all_keyword_bigrams)\n",
    "counter.most_common(30)\n"
   ]
  },
  {
   "cell_type": "markdown",
   "id": "88c1f43a",
   "metadata": {},
   "source": [
    "### Trigrams - Keyword Data"
   ]
  },
  {
   "cell_type": "code",
   "execution_count": 30,
   "id": "afa1bd4e",
   "metadata": {},
   "outputs": [],
   "source": [
    "keyword_trigrams=[]\n",
    "\n",
    "for words in keyword_data:\n",
    "    tokens = nltk.word_tokenize(words)\n",
    "    tokens = [t.lower() for t in tokens if t not in sw]\n",
    "    word_l = WordNetLemmatizer()\n",
    "    tokens = [word_l.lemmatize(t) for t in tokens if t.isalpha()]\n",
    "\n",
    "    tri_grams = list(ngrams(tokens, 3))\n",
    "    \n",
    "    \n",
    "    keyword_trigrams.append(tri_grams)\n"
   ]
  },
  {
   "cell_type": "code",
   "execution_count": 32,
   "id": "f2ba4544",
   "metadata": {},
   "outputs": [
    {
     "data": {
      "text/plain": [
       "[(('marine', 'protected', 'area'), 829),\n",
       " (('specie', 'distribution', 'model'), 207),\n",
       " (('marine', 'spatial', 'planning'), 198),\n",
       " (('sic', 'sic', 'sic'), 141),\n",
       " (('south', 'china', 'sea'), 114),\n",
       " (('illegal', 'wildlife', 'trade'), 111),\n",
       " (('ecological', 'risk', 'assessment'), 110),\n",
       " (('stable', 'isotope', 'analysis'), 96),\n",
       " (('local', 'ecological', 'knowledge'), 95),\n",
       " (('harmful', 'algal', 'bloom'), 92),\n",
       " (('passive', 'acoustic', 'monitoring'), 87),\n",
       " (('protected', 'area', 'marine'), 71),\n",
       " (('marine', 'strategy', 'framework'), 69),\n",
       " (('strategy', 'framework', 'directive'), 68),\n",
       " (('sea', 'surface', 'temperature'), 66),\n",
       " (('climate', 'change', 'conservation'), 63),\n",
       " (('great', 'barrier', 'reef'), 62),\n",
       " (('polycyclic', 'aromatic', 'hydrocarbon'), 61),\n",
       " (('vulnerable', 'marine', 'ecosystem'), 60),\n",
       " (('specie', 'distribution', 'modelling'), 59),\n",
       " (('east', 'china', 'sea'), 54),\n",
       " (('specie', 'distribution', 'modeling'), 53),\n",
       " (('iucn', 'red', 'list'), 52),\n",
       " (('sustainable', 'development', 'goal'), 51),\n",
       " (('coral', 'reef', 'fish'), 51),\n",
       " (('single', 'nucleotide', 'polymorphism'), 50),\n",
       " (('generalized', 'additive', 'model'), 50),\n",
       " (('systematic', 'conservation', 'planning'), 49),\n",
       " (('environmental', 'impact', 'assessment'), 47),\n",
       " (('marine', 'conservation', 'marine'), 46)]"
      ]
     },
     "execution_count": 32,
     "metadata": {},
     "output_type": "execute_result"
    }
   ],
   "source": [
    "# flatten list of lists\n",
    " \n",
    "# using list comprehension\n",
    "all_keyword_trigrams = [item for sublist in keyword_trigrams for item in sublist]\n",
    "\n",
    "# counting all bigrams\n",
    "counter = Counter(all_keyword_trigrams)\n",
    "counter.most_common(30)"
   ]
  },
  {
   "cell_type": "markdown",
   "id": "b4a22bd4",
   "metadata": {},
   "source": [
    "## Abstract Data"
   ]
  },
  {
   "cell_type": "code",
   "execution_count": 3,
   "id": "ac0fa503",
   "metadata": {},
   "outputs": [
    {
     "data": {
      "text/plain": [
       "'A study was conducted to investigate the seroprevalence and associated risk factors of Chlamydia abortus infection in cattle and some selected wildlife species at selected interface areas at the periphery of the Great Limpopo Transfrontier Conservation Area in Zimbabwe. Three study sites were selected based on the type of livestock-wildlife interface, porous livestock-wildlife interface (unrestricted), non-porous livestock-wildlife interface (restricted by fencing), and livestock-wildlife non-interface (totally absent or control). Sera were collected from cattle aged ae<yen> 2 years representing both female and intact male. Sera were also collected from selected wild ungulates from Mabalauta (porous interface) and Chipinda Pools (non-interface) areas of the Gonarezhou National Park. Sera were tested for antibodies to Chlamydia abortus using a CFT. A X (2) test was used to assess differences between categories and p < 0.05 was considered as significant. In cattle, the overall seroprevalence was 32.7% (327/1011; 95% CI 29.5-35.3). A significantly lower seroprevalence was recorded for the porous interface (24.2%) compared to the non-porous (42.5%) (p < 0.0001) and the non-interface (36.2%) (p = 0.001). Overall, the wet season recorded a significantly (p = 0.015) higher seroprevalence than the dry season. In wildlife, antibodies were detected in buffaloes (47.7%) and impalas (43.8%) but not in kudus. Buffaloes from Chipinda Pools (53.4%) had a significantly (p = 0.036) higher seroprevalence than those from Mabalauta (26.1%). The results established the presence of chlamydiosis in cattle and selected wildlife and that independent infections may be maintained in buffalo populations. Further studies are required to clarify chlamydiae circulating between cattle and wildlife.'"
      ]
     },
     "execution_count": 3,
     "metadata": {},
     "output_type": "execute_result"
    }
   ],
   "source": [
    "abstract=data['Abstract']\n",
    "\n",
    "abstract_strings=[] ##creating a list to store string of data\n",
    "\n",
    "for item in abstract:  #Make everything in the column  a string of text\n",
    "    string=str(item)\n",
    "    abstract_strings.append(string)\n",
    "       \n",
    "abstract_strings[1]"
   ]
  },
  {
   "cell_type": "code",
   "execution_count": 34,
   "id": "5ff752b7",
   "metadata": {},
   "outputs": [],
   "source": [
    "tokens=nltk.word_tokenize(str(abstract_strings)) ##tokenize all of the text strings\n",
    "len(tokens)\n",
    "\n",
    "\n",
    "cleaned_tokens=[] ##Space to store clean tokens\n",
    "\n",
    "for w in tokens:\n",
    "        if w not in sw and w.isalpha(): #Removing tokens including stopwords and punctuation\n",
    "            cleaned_tokens.append(w.lower())    ##Make everything lowercase\n"
   ]
  },
  {
   "cell_type": "code",
   "execution_count": 37,
   "id": "f4db40da",
   "metadata": {},
   "outputs": [
    {
     "name": "stdout",
     "output_type": "stream",
     "text": [
      "9350108\n",
      "5069952\n"
     ]
    }
   ],
   "source": [
    "print(len(tokens))\n",
    "print(len(cleaned_tokens))"
   ]
  },
  {
   "cell_type": "code",
   "execution_count": 38,
   "id": "c6ce1cb9",
   "metadata": {
    "scrolled": true
   },
   "outputs": [
    {
     "data": {
      "image/png": "[encoded data removed]",
      "text/plain": [
       "<Figure size 640x480 with 1 Axes>"
      ]
     },
     "metadata": {},
     "output_type": "display_data"
    },
    {
     "data": {
      "text/plain": [
       "<AxesSubplot:xlabel='Samples', ylabel='Counts'>"
      ]
     },
     "execution_count": 38,
     "metadata": {},
     "output_type": "execute_result"
    }
   ],
   "source": [
    "fdist = FreqDist(cleaned_tokens)\n",
    "    \n",
    "    \n",
    "fdist.plot(20)"
   ]
  },
  {
   "cell_type": "code",
   "execution_count": 51,
   "id": "e08738a2",
   "metadata": {},
   "outputs": [],
   "source": [
    "#removing unnecessary words\n",
    "\n",
    "additional_stopwords=['the','we','study','in','results','this','using','used','also', 'may','two','high','however','important','found',\n",
    "                     'our','use','within','across','showed','higher','one','based','three','effects','among','studies']\n",
    "\n",
    "clean_tokens_2 = []\n",
    "for token in cleaned_tokens:\n",
    "    if token not in additional_stopwords:\n",
    "        clean_tokens_2.append(token)"
   ]
  },
  {
   "cell_type": "code",
   "execution_count": 52,
   "id": "10476d34",
   "metadata": {},
   "outputs": [
    {
     "data": {
      "text/plain": [
       "[('species', 58516),\n",
       " ('marine', 31492),\n",
       " ('conservation', 20520),\n",
       " ('data', 16986),\n",
       " ('areas', 15596),\n",
       " ('management', 14836),\n",
       " ('ecological', 14638),\n",
       " ('population', 13629),\n",
       " ('sea', 12787),\n",
       " ('habitat', 12611),\n",
       " ('environmental', 12586),\n",
       " ('different', 12517),\n",
       " ('wildlife', 12046),\n",
       " ('fish', 11389),\n",
       " ('populations', 10553),\n",
       " ('area', 10180),\n",
       " ('potential', 10152),\n",
       " ('distribution', 9716),\n",
       " ('diversity', 9709),\n",
       " ('analysis', 9413),\n",
       " ('coastal', 8810),\n",
       " ('changes', 8195),\n",
       " ('abundance', 8056),\n",
       " ('communities', 8015),\n",
       " ('spatial', 7986),\n",
       " ('water', 7966),\n",
       " ('model', 7843),\n",
       " ('change', 7742),\n",
       " ('time', 7570),\n",
       " ('community', 7536)]"
      ]
     },
     "execution_count": 52,
     "metadata": {},
     "output_type": "execute_result"
    }
   ],
   "source": [
    "# counting all tokens\n",
    "token_counter = Counter(clean_tokens_2)\n",
    "token_counter.most_common(30)"
   ]
  },
  {
   "cell_type": "markdown",
   "id": "ec9a205b",
   "metadata": {},
   "source": [
    "## Bigrams - Abstract Data"
   ]
  },
  {
   "cell_type": "code",
   "execution_count": 4,
   "id": "3917444c",
   "metadata": {},
   "outputs": [
    {
     "data": {
      "text/plain": [
       "35142"
      ]
     },
     "execution_count": 4,
     "metadata": {},
     "output_type": "execute_result"
    }
   ],
   "source": [
    "abstract_bigrams=[]\n",
    "\n",
    "for words in abstract_strings:\n",
    "    tokens = nltk.word_tokenize(words)\n",
    "    tokens = [t.lower() for t in tokens if t not in sw]\n",
    "    word_l = WordNetLemmatizer()\n",
    "    tokens = [word_l.lemmatize(t) for t in tokens if t.isalpha()]\n",
    "\n",
    "    bi_grams = list(ngrams(tokens, 2))\n",
    "    \n",
    "    \n",
    "    abstract_bigrams.append(bi_grams)\n",
    "\n",
    "len(abstract_bigrams)\n",
    " ##currently bigrams is a list of lists of bigrams"
   ]
  },
  {
   "cell_type": "code",
   "execution_count": 5,
   "id": "4ffd2e2c",
   "metadata": {},
   "outputs": [
    {
     "data": {
      "text/plain": [
       "[(('this', 'study'), 4941),\n",
       " (('protected', 'area'), 4191),\n",
       " (('our', 'result'), 3826),\n",
       " (('climate', 'change'), 3763),\n",
       " (('in', 'study'), 3275),\n",
       " (('the', 'result'), 3177),\n",
       " (('marine', 'ecosystem'), 2723),\n",
       " (('we', 'found'), 2633),\n",
       " (('marine', 'environment'), 2322),\n",
       " (('in', 'addition'), 1978),\n",
       " (('coral', 'reef'), 1932),\n",
       " (('we', 'used'), 1925),\n",
       " (('degree', 'c'), 1908),\n",
       " (('present', 'study'), 1875),\n",
       " (('specie', 'richness'), 1710),\n",
       " (('we', 'also'), 1679),\n",
       " (('result', 'suggest'), 1674),\n",
       " (('these', 'result'), 1657),\n",
       " (('food', 'web'), 1614),\n",
       " (('marine', 'protected'), 1604),\n",
       " (('result', 'showed'), 1568),\n",
       " (('genetic', 'diversity'), 1460),\n",
       " (('ecosystem', 'service'), 1452),\n",
       " (('our', 'study'), 1437),\n",
       " (('fish', 'specie'), 1430),\n",
       " (('result', 'show'), 1418),\n",
       " (('national', 'park'), 1412),\n",
       " (('study', 'area'), 1406),\n",
       " (('environmental', 'condition'), 1371),\n",
       " (('human', 'activity'), 1358)]"
      ]
     },
     "execution_count": 5,
     "metadata": {},
     "output_type": "execute_result"
    }
   ],
   "source": [
    "# how to flatten list of lists\n",
    " \n",
    "# using list comprehension\n",
    "all_abstract_bigrams = [item for sublist in abstract_bigrams for item in sublist]\n",
    "\n",
    "# counting all bigrams\n",
    "counter = Counter(all_abstract_bigrams)\n",
    "counter.most_common(30)"
   ]
  },
  {
   "cell_type": "code",
   "execution_count": 57,
   "id": "1e8e70f8",
   "metadata": {},
   "outputs": [],
   "source": [
    "##Removing some irrelevant bigrams\n",
    "\n",
    "bad_bigrams=[('we', 'also'), ('in', 'study'),('in', 'addition'),('we', 'used'),('published', 'elsevier'),\n",
    "('our', 'result'),('we', 'found'),('the', 'result'),('this', 'study'),('our', 'study'), ('degree', 'c'), ('present', 'study')\n",
    "            ,('result', 'suggest'),('these', 'result'), ('result', 'showed'),('result', 'show'),('study', 'area'),\n",
    "            ('all', 'right'),('right', 'reserved'),('our', 'finding'),('a', 'total'),('elsevier', 'all'),('c', 'elsevier'),\n",
    "            ('first', 'time'), ('the', 'present'), ('specie', 'the'),('in', 'contrast'),('the', 'study'),('result', 'indicate'),\n",
    "            ('important', 'role'), ('study', 'provides')]\n",
    "\n",
    "clean_abstract_bigrams = []\n",
    "for bigram in all_abstract_bigrams:\n",
    "    if bigram not in bad_bigrams:\n",
    "        clean_abstract_bigrams.append(bigram)"
   ]
  },
  {
   "cell_type": "code",
   "execution_count": 58,
   "id": "c6351553",
   "metadata": {},
   "outputs": [
    {
     "data": {
      "text/plain": [
       "[(('protected', 'area'), 4191),\n",
       " (('climate', 'change'), 3763),\n",
       " (('marine', 'ecosystem'), 2723),\n",
       " (('marine', 'environment'), 2322),\n",
       " (('coral', 'reef'), 1932),\n",
       " (('specie', 'richness'), 1710),\n",
       " (('food', 'web'), 1614),\n",
       " (('marine', 'protected'), 1604),\n",
       " (('genetic', 'diversity'), 1460),\n",
       " (('ecosystem', 'service'), 1452),\n",
       " (('fish', 'specie'), 1430),\n",
       " (('national', 'park'), 1412),\n",
       " (('environmental', 'condition'), 1371),\n",
       " (('human', 'activity'), 1358),\n",
       " (('conservation', 'management'), 1258),\n",
       " (('case', 'study'), 1127),\n",
       " (('community', 'structure'), 1073),\n",
       " (('microbial', 'community'), 1053),\n",
       " (('stable', 'isotope'), 1047),\n",
       " (('significant', 'difference'), 1041),\n",
       " (('sea', 'turtle'), 1026),\n",
       " (('mediterranean', 'sea'), 1009),\n",
       " (('specie', 'distribution'), 992),\n",
       " (('population', 'size'), 991),\n",
       " (('habitat', 'use'), 979),\n",
       " (('environmental', 'change'), 974),\n",
       " (('marine', 'mammal'), 973),\n",
       " (('growth', 'rate'), 964),\n",
       " (('organic', 'matter'), 959),\n",
       " (('marine', 'specie'), 952)]"
      ]
     },
     "execution_count": 58,
     "metadata": {},
     "output_type": "execute_result"
    }
   ],
   "source": [
    "bigram_counter = Counter(clean_abstract_bigrams)\n",
    "bigram_counter.most_common(30)"
   ]
  },
  {
   "cell_type": "markdown",
   "id": "db40c73c",
   "metadata": {},
   "source": [
    "## Trigrams - Abstract Data"
   ]
  },
  {
   "cell_type": "code",
   "execution_count": 6,
   "id": "6e763716",
   "metadata": {},
   "outputs": [],
   "source": [
    "abstract_trigrams=[]\n",
    "\n",
    "for words in abstract_strings:\n",
    "    tokens = nltk.word_tokenize(words)\n",
    "    tokens = [t.lower() for t in tokens if t not in sw]\n",
    "    word_l = WordNetLemmatizer()\n",
    "    tokens = [word_l.lemmatize(t) for t in tokens if t.isalpha()]\n",
    "\n",
    "    tri_grams = list(ngrams(tokens, 3))\n",
    "    \n",
    "    \n",
    "    abstract_trigrams.append(tri_grams)\n"
   ]
  },
  {
   "cell_type": "code",
   "execution_count": 7,
   "id": "4e5e8efc",
   "metadata": {},
   "outputs": [
    {
     "data": {
      "text/plain": [
       "[(('marine', 'protected', 'area'), 1592),\n",
       " (('all', 'right', 'reserved'), 1345),\n",
       " (('elsevier', 'all', 'right'), 1239),\n",
       " (('c', 'elsevier', 'all'), 1131),\n",
       " (('the', 'present', 'study'), 756),\n",
       " (('our', 'result', 'suggest'), 699),\n",
       " (('play', 'important', 'role'), 682),\n",
       " (('the', 'result', 'showed'), 617),\n",
       " (('sea', 'surface', 'temperature'), 571),\n",
       " (('protected', 'area', 'mpas'), 526),\n",
       " (('our', 'result', 'show'), 525),\n",
       " (('part', 'per', 'thousand'), 520),\n",
       " (('in', 'present', 'study'), 516),\n",
       " (('this', 'study', 'provides'), 487),\n",
       " (('c', 'the', 'author'), 435),\n",
       " (('temperature', 'degree', 'c'), 408),\n",
       " (('the', 'author', 'published'), 395),\n",
       " (('the', 'result', 'show'), 391),\n",
       " (('author', 'published', 'elsevier'), 390),\n",
       " (('south', 'china', 'sea'), 387),\n",
       " (('the', 'aim', 'study'), 383),\n",
       " (('these', 'result', 'suggest'), 347),\n",
       " (('our', 'result', 'indicate'), 345),\n",
       " (('stable', 'isotope', 'analysis'), 339),\n",
       " (('this', 'study', 'aimed'), 328),\n",
       " (('the', 'result', 'study'), 318),\n",
       " (('marine', 'spatial', 'planning'), 317),\n",
       " (('specie', 'distribution', 'model'), 313),\n",
       " (('iucn', 'red', 'list'), 305),\n",
       " (('our', 'result', 'showed'), 295)]"
      ]
     },
     "execution_count": 7,
     "metadata": {},
     "output_type": "execute_result"
    }
   ],
   "source": [
    "# flatten list of lists\n",
    " \n",
    "# using list comprehension\n",
    "all_abstract_trigrams = [item for sublist in abstract_trigrams for item in sublist]\n",
    "\n",
    "# counting all bigrams\n",
    "counter = Counter(all_abstract_trigrams)\n",
    "counter.most_common(30)"
   ]
  },
  {
   "cell_type": "code",
   "execution_count": 69,
   "id": "15383bf3",
   "metadata": {},
   "outputs": [],
   "source": [
    "##Removing irrelevant trigrams\n",
    "\n",
    "bad_trigrams=[('ciencia', 'ccologica', 'e'),('de', 'ciencia', 'ccologica'),('brasileira', 'de', 'ciencia'),('the', 'result', 'study'),\n",
    "             ('our', 'result', 'suggest'),('our', 'result', 'show'),('play', 'important', 'role'), ('elsevier', 'all', 'right'),\n",
    "             ('the', 'result', 'showed'),('all', 'right', 'reserved'),('c', 'the', 'authors'),('the', 'authors', 'published'),\n",
    "             ('authors', 'published', 'elsevier'),('the', 'result', 'show'),('c', 'elsevier', 'all'),('the', 'present', 'study'),\n",
    "             ('part', 'per', 'thousand'),('in', 'present', 'study'),('this', 'study', 'provides'),('c', 'the', 'author'),\n",
    "             ('temperature', 'degree', 'c'),('the', 'author', 'published'),('author', 'published', 'elsevier'),\n",
    "             ('the', 'aim', 'study'),('the', 'aim', 'study'),('these', 'result', 'suggest'),('our', 'result', 'indicate'),\n",
    "             ('this', 'study', 'aimed'),('our', 'result', 'showed'),('our', 'finding', 'suggest'),('we', 'also', 'found'),\n",
    "             ('our', 'result', 'highlight'),('however', 'little', 'known'),('this', 'study', 'highlight'),('this', 'study', 'aim'),\n",
    "             ('this', 'study', 'investigated'),('our', 'study', 'provides'),('our', 'result', 'provide'),('our', 'result', 'demonstrate'),\n",
    "             ('c', 'degree', 'c'),('degree', 'c', 'degree'),('in', 'study', 'used'), ('in', 'study', 'investigated'),('c', 'published', 'elsevier'),\n",
    "             ('in', 'recent', 'year'),('the', 'result', 'indicate')]\n",
    "\n",
    "clean_abstract_trigrams = []\n",
    "for trigram in all_abstract_trigrams:\n",
    "    if trigram not in bad_trigrams:\n",
    "        clean_abstract_trigrams.append(trigram)"
   ]
  },
  {
   "cell_type": "code",
   "execution_count": 70,
   "id": "1f7860ba",
   "metadata": {},
   "outputs": [
    {
     "data": {
      "text/plain": [
       "[(('marine', 'protected', 'area'), 1592),\n",
       " (('sea', 'surface', 'temperature'), 571),\n",
       " (('protected', 'area', 'mpas'), 526),\n",
       " (('south', 'china', 'sea'), 387),\n",
       " (('stable', 'isotope', 'analysis'), 339),\n",
       " (('marine', 'spatial', 'planning'), 317),\n",
       " (('specie', 'distribution', 'model'), 313),\n",
       " (('iucn', 'red', 'list'), 305),\n",
       " (('marine', 'food', 'web'), 273),\n",
       " (('great', 'barrier', 'reef'), 229),\n",
       " (('principal', 'component', 'analysis'), 228),\n",
       " (('east', 'china', 'sea'), 228),\n",
       " (('play', 'key', 'role'), 227),\n",
       " (('protected', 'area', 'mpa'), 215),\n",
       " (('higher', 'trophic', 'level'), 212),\n",
       " (('operational', 'taxonomic', 'unit'), 208),\n",
       " (('potential', 'ecological', 'risk'), 205),\n",
       " (('international', 'union', 'conservation'), 199),\n",
       " (('union', 'conservation', 'nature'), 199),\n",
       " (('generalized', 'linear', 'model'), 194),\n",
       " (('home', 'range', 'size'), 193),\n",
       " (('coral', 'reef', 'ecosystem'), 192),\n",
       " (('effect', 'climate', 'change'), 188),\n",
       " (('impact', 'climate', 'change'), 187),\n",
       " (('single', 'nucleotide', 'polymorphism'), 176),\n",
       " (('illegal', 'wildlife', 'trade'), 175),\n",
       " (('effective', 'population', 'size'), 169),\n",
       " (('spatial', 'temporal', 'scale'), 168),\n",
       " (('marine', 'strategy', 'framework'), 167),\n",
       " (('population', 'genetic', 'structure'), 166)]"
      ]
     },
     "execution_count": 70,
     "metadata": {},
     "output_type": "execute_result"
    }
   ],
   "source": [
    "trigram_counter = Counter(clean_abstract_trigrams)\n",
    "trigram_counter.most_common(30)"
   ]
  },
  {
   "cell_type": "code",
   "execution_count": 72,
   "id": "ae895f81",
   "metadata": {},
   "outputs": [
    {
     "data": {
      "text/plain": [
       "5007881"
      ]
     },
     "execution_count": 72,
     "metadata": {},
     "output_type": "execute_result"
    }
   ],
   "source": []
  },
  {
   "cell_type": "markdown",
   "id": "9a1d7b9e",
   "metadata": {},
   "source": [
    "## Identifying elements of research design"
   ]
  },
  {
   "cell_type": "code",
   "execution_count": null,
   "id": "d4feea37",
   "metadata": {},
   "outputs": [],
   "source": []
  },
  {
   "cell_type": "code",
   "execution_count": 76,
   "id": "3acc9e4c",
   "metadata": {},
   "outputs": [
    {
     "data": {
      "text/plain": [
       "[(('optimal', 'foraging', 'theory'), 20),\n",
       " (('theory', 'planned', 'behavior'), 13),\n",
       " (('metabolic', 'theory', 'ecology'), 12),\n",
       " (('theory', 'planned', 'behaviour'), 10),\n",
       " (('life', 'history', 'theory'), 6),\n",
       " (('population', 'genetic', 'theory'), 6),\n",
       " (('foraging', 'theory', 'predicts'), 6),\n",
       " (('theory', 'island', 'biogeography'), 6),\n",
       " (('path', 'circuit', 'theory'), 5),\n",
       " (('energy', 'budget', 'theory'), 5),\n",
       " (('budget', 'deb', 'theory'), 5),\n",
       " (('we', 'used', 'theory'), 4),\n",
       " (('used', 'theory', 'planned'), 4),\n",
       " (('used', 'circuit', 'theory'), 4),\n",
       " (('appraisal', 'theory', 'emotion'), 4),\n",
       " (('optimal', 'control', 'theory'), 4),\n",
       " (('optimal', 'escape', 'theory'), 4),\n",
       " (('theory', 'ecology', 'mte'), 4),\n",
       " (('evolutionary', 'governance', 'theory'), 4),\n",
       " (('based', 'ecological', 'theory'), 4)]"
      ]
     },
     "execution_count": 76,
     "metadata": {},
     "output_type": "execute_result"
    }
   ],
   "source": [
    "#Theory in trigrams\n",
    "trigram_theories=[]\n",
    "\n",
    "for trigram in clean_abstract_trigrams:\n",
    "    if 'theory' in trigram:\n",
    "        trigram_theories.append(trigram)\n",
    "\n",
    "trigram_theory_counter = Counter(trigram_theories)\n",
    "trigram_theory_counter.most_common(20)\n",
    "#This helps me see what theories have been mentioned"
   ]
  },
  {
   "cell_type": "code",
   "execution_count": 77,
   "id": "71194b30",
   "metadata": {},
   "outputs": [
    {
     "data": {
      "text/plain": [
       "[(('ecological', 'theory'), 54),\n",
       " (('theory', 'predicts'), 40),\n",
       " (('circuit', 'theory'), 30),\n",
       " (('foraging', 'theory'), 26),\n",
       " (('theory', 'planned'), 23),\n",
       " (('metabolic', 'theory'), 22),\n",
       " (('network', 'theory'), 21),\n",
       " (('theory', 'practice'), 21),\n",
       " (('graph', 'theory'), 18),\n",
       " (('theory', 'suggests'), 17),\n",
       " (('theory', 'change'), 17),\n",
       " (('based', 'theory'), 15),\n",
       " (('theory', 'we'), 13),\n",
       " (('theory', 'ecology'), 13),\n",
       " (('the', 'theory'), 11),\n",
       " (('theory', 'the'), 11),\n",
       " (('predicted', 'theory'), 10),\n",
       " (('theory', 'used'), 9),\n",
       " (('support', 'theory'), 9),\n",
       " (('general', 'theory'), 9)]"
      ]
     },
     "execution_count": 77,
     "metadata": {},
     "output_type": "execute_result"
    }
   ],
   "source": [
    "#models in bigrams\n",
    "bigram_theories=[]\n",
    "\n",
    "for bigram in clean_abstract_bigrams:\n",
    "    if 'theory' in bigram:\n",
    "        bigram_theories.append(bigram)\n",
    "\n",
    "bigram_theory_counter = Counter(bigram_theories)\n",
    "bigram_theory_counter.most_common(30)\n",
    "\n",
    "##Less useful, but suggests similar theories as trigrams"
   ]
  },
  {
   "cell_type": "code",
   "execution_count": 79,
   "id": "37750d60",
   "metadata": {},
   "outputs": [
    {
     "data": {
      "text/plain": [
       "[(('specie', 'distribution', 'model'), 313),\n",
       " (('generalized', 'linear', 'model'), 194),\n",
       " (('linear', 'mixed', 'model'), 156),\n",
       " (('generalized', 'additive', 'model'), 145),\n",
       " (('distribution', 'model', 'sdms'), 84),\n",
       " (('ecological', 'niche', 'model'), 63),\n",
       " (('habitat', 'suitability', 'model'), 60),\n",
       " (('additive', 'model', 'gam'), 58),\n",
       " (('hidden', 'markov', 'model'), 56),\n",
       " (('logistic', 'regression', 'model'), 49),\n",
       " (('mixed', 'effect', 'model'), 44),\n",
       " (('generalised', 'linear', 'model'), 44),\n",
       " (('food', 'web', 'model'), 43),\n",
       " (('additive', 'mixed', 'model'), 42),\n",
       " (('generalised', 'additive', 'model'), 41),\n",
       " (('spatially', 'explicit', 'model'), 39),\n",
       " (('bayesian', 'mixing', 'model'), 38),\n",
       " (('earth', 'system', 'model'), 36),\n",
       " (('isotope', 'mixing', 'model'), 34),\n",
       " (('we', 'used', 'model'), 32),\n",
       " (('model', 'the', 'result'), 30),\n",
       " (('marine', 'ecosystem', 'model'), 30),\n",
       " (('machine', 'learning', 'model'), 29),\n",
       " (('model', 'used', 'estimate'), 28),\n",
       " (('linear', 'model', 'glm'), 27),\n",
       " (('structural', 'equation', 'model'), 25),\n",
       " (('model', 'the', 'model'), 25),\n",
       " (('model', 'we', 'found'), 25),\n",
       " (('model', 'used', 'predict'), 25),\n",
       " (('random', 'forest', 'model'), 23)]"
      ]
     },
     "execution_count": 79,
     "metadata": {},
     "output_type": "execute_result"
    }
   ],
   "source": [
    "#models in trigrams\n",
    "#Theory in trigrams\n",
    "trigram_models=[]\n",
    "\n",
    "for trigram in clean_abstract_trigrams:\n",
    "    if 'model' in trigram:\n",
    "        trigram_models.append(trigram)\n",
    "\n",
    "trigram_model_counter = Counter(trigram_models)\n",
    "trigram_model_counter.most_common(30)"
   ]
  },
  {
   "cell_type": "code",
   "execution_count": 80,
   "id": "7e275f2e",
   "metadata": {},
   "outputs": [
    {
     "data": {
      "text/plain": [
       "[(('the', 'model'), 461),\n",
       " (('distribution', 'model'), 401),\n",
       " (('linear', 'model'), 350),\n",
       " (('model', 'used'), 338),\n",
       " (('model', 'the'), 227),\n",
       " (('mixed', 'model'), 219),\n",
       " (('additive', 'model'), 204),\n",
       " (('regression', 'model'), 190),\n",
       " (('model', 'based'), 186),\n",
       " (('our', 'model'), 176),\n",
       " (('model', 'specie'), 173),\n",
       " (('ecosystem', 'model'), 160),\n",
       " (('used', 'model'), 159),\n",
       " (('model', 'showed'), 153),\n",
       " (('mixing', 'model'), 149),\n",
       " (('occupancy', 'model'), 146),\n",
       " (('model', 'using'), 146),\n",
       " (('model', 'we'), 144),\n",
       " (('model', 'result'), 143),\n",
       " (('model', 'organism'), 141),\n",
       " (('model', 'developed'), 136),\n",
       " (('model', 'system'), 130),\n",
       " (('population', 'model'), 121),\n",
       " (('using', 'model'), 121),\n",
       " (('model', 'estimate'), 119),\n",
       " (('model', 'prediction'), 112),\n",
       " (('model', 'predict'), 108),\n",
       " (('model', 'predicted'), 103),\n",
       " (('model', 'performance'), 98),\n",
       " (('model', 'indicated'), 95)]"
      ]
     },
     "execution_count": 80,
     "metadata": {},
     "output_type": "execute_result"
    }
   ],
   "source": [
    "#models in bigrams\n",
    "\n",
    "#models in bigrams\n",
    "bigram_models=[]\n",
    "\n",
    "for bigram in clean_abstract_bigrams:\n",
    "    if 'model' in bigram:\n",
    "        bigram_models.append(bigram)\n",
    "\n",
    "bigram_model_counter = Counter(bigram_models)\n",
    "bigram_model_counter.most_common(30)"
   ]
  },
  {
   "cell_type": "code",
   "execution_count": null,
   "id": "0d91faf4",
   "metadata": {},
   "outputs": [],
   "source": [
    "#methods in bigrams"
   ]
  },
  {
   "cell_type": "code",
   "execution_count": 83,
   "id": "0b877d1c",
   "metadata": {},
   "outputs": [
    {
     "data": {
      "text/plain": [
       "[(('method', 'we', 'used'), 74),\n",
       " (('the', 'proposed', 'method'), 30),\n",
       " (('contingent', 'valuation', 'method'), 29),\n",
       " (('method', 'a', 'total'), 27),\n",
       " (('method', 'the', 'result'), 26),\n",
       " (('machine', 'learning', 'method'), 24),\n",
       " (('mixed', 'method', 'approach'), 22),\n",
       " (('the', 'method', 'applied'), 22),\n",
       " (('method', 'we', 'collected'), 20),\n",
       " (('the', 'method', 'used'), 20),\n",
       " (('method', 'we', 'compiled'), 19),\n",
       " (('method', 'we', 'conducted'), 19),\n",
       " (('specie', 'delimitation', 'method'), 18),\n",
       " (('using', 'two', 'method'), 17),\n",
       " (('method', 'in', 'study'), 17),\n",
       " (('distance', 'sampling', 'method'), 16),\n",
       " (('we', 'applied', 'method'), 15),\n",
       " (('method', 'used', 'study'), 15),\n",
       " (('data', 'collection', 'method'), 15),\n",
       " (('deep', 'learning', 'method'), 15),\n",
       " (('fish', 'method', 'we'), 15),\n",
       " (('sampling', 'method', 'used'), 14),\n",
       " (('commonly', 'used', 'method'), 14),\n",
       " (('remote', 'sensing', 'method'), 14),\n",
       " (('traditional', 'survey', 'method'), 13),\n",
       " (('we', 'present', 'method'), 13),\n",
       " (('method', 'we', 'tested'), 13),\n",
       " (('ocean', 'method', 'we'), 13),\n",
       " (('method', 'our', 'result'), 13),\n",
       " (('method', 'this', 'study'), 12)]"
      ]
     },
     "execution_count": 83,
     "metadata": {},
     "output_type": "execute_result"
    }
   ],
   "source": [
    "#methods in trigrams\n",
    "\n",
    "trigram_methods=[]\n",
    "\n",
    "for trigram in clean_abstract_trigrams:\n",
    "    if 'method' in trigram:\n",
    "        trigram_methods.append(trigram)\n",
    "\n",
    "trigram_methods_counter = Counter(trigram_methods)\n",
    "trigram_methods_counter.most_common(30)"
   ]
  },
  {
   "cell_type": "code",
   "execution_count": 9,
   "id": "2d2da65b",
   "metadata": {},
   "outputs": [
    {
     "data": {
      "text/plain": [
       "[(('stable', 'isotope', 'analysis'), 339),\n",
       " (('principal', 'component', 'analysis'), 228),\n",
       " (('component', 'analysis', 'pca'), 89),\n",
       " (('canonical', 'correspondence', 'analysis'), 77),\n",
       " (('stomach', 'content', 'analysis'), 72),\n",
       " (('phylogenetic', 'analysis', 'showed'), 58),\n",
       " (('phylogenetic', 'analysis', 'based'), 55),\n",
       " (('population', 'viability', 'analysis'), 47),\n",
       " (('population', 'genetic', 'analysis'), 41),\n",
       " (('analysis', 'molecular', 'variance'), 40),\n",
       " (('social', 'network', 'analysis'), 36),\n",
       " (('analysis', 'the', 'result'), 36),\n",
       " (('our', 'analysis', 'revealed'), 36),\n",
       " (('comparative', 'genomic', 'analysis'), 36),\n",
       " (('phylogenetic', 'analysis', 'revealed'), 35),\n",
       " (('the', 'phylogenetic', 'analysis'), 34),\n",
       " (('analysis', 'revealed', 'significant'), 33),\n",
       " (('principal', 'coordinate', 'analysis'), 33),\n",
       " (('our', 'analysis', 'show'), 32),\n",
       " (('isotope', 'analysis', 'sia'), 31),\n",
       " (('multivariate', 'statistical', 'analysis'), 30),\n",
       " (('molecular', 'phylogenetic', 'analysis'), 30),\n",
       " (('redundancy', 'analysis', 'rda'), 30),\n",
       " (('gene', 'expression', 'analysis'), 30),\n",
       " (('analysis', 'principal', 'component'), 27),\n",
       " (('ecological', 'network', 'analysis'), 26),\n",
       " (('our', 'analysis', 'suggests'), 26),\n",
       " (('analysis', 'delta', 'delta'), 25),\n",
       " (('phylogenetic', 'analysis', 'using'), 25),\n",
       " (('hierarchical', 'cluster', 'analysis'), 24)]"
      ]
     },
     "execution_count": 9,
     "metadata": {},
     "output_type": "execute_result"
    }
   ],
   "source": [
    "#analysis in trigrams\n",
    "trigram_analysis=[]\n",
    "\n",
    "for trigram in all_abstract_trigrams:\n",
    "    if 'analysis' in trigram:\n",
    "        trigram_analysis.append(trigram)\n",
    "\n",
    "trigram_analysis_counter = Counter(trigram_analysis)\n",
    "trigram_analysis_counter.most_common(30)"
   ]
  },
  {
   "cell_type": "code",
   "execution_count": 10,
   "id": "5ca6669e",
   "metadata": {},
   "outputs": [
    {
     "data": {
      "text/plain": [
       "[(('analysis', 'revealed'), 747),\n",
       " (('analysis', 'showed'), 655),\n",
       " (('phylogenetic', 'analysis'), 576),\n",
       " (('isotope', 'analysis'), 404),\n",
       " (('our', 'analysis'), 365),\n",
       " (('the', 'analysis'), 356),\n",
       " (('analysis', 'indicated'), 297),\n",
       " (('component', 'analysis'), 240),\n",
       " (('network', 'analysis'), 239),\n",
       " (('analysis', 'based'), 227),\n",
       " (('genetic', 'analysis'), 223),\n",
       " (('analysis', 'the'), 218),\n",
       " (('multivariate', 'analysis'), 206),\n",
       " (('cluster', 'analysis'), 196),\n",
       " (('statistical', 'analysis'), 186),\n",
       " (('analysis', 'using'), 184),\n",
       " (('comparative', 'analysis'), 172),\n",
       " (('content', 'analysis'), 166),\n",
       " (('molecular', 'analysis'), 158),\n",
       " (('analysis', 'show'), 158),\n",
       " (('analysis', 'performed'), 132),\n",
       " (('analysis', 'used'), 131),\n",
       " (('data', 'analysis'), 130),\n",
       " (('regression', 'analysis'), 126),\n",
       " (('analysis', 'suggested'), 117),\n",
       " (('analysis', 'we'), 115),\n",
       " (('analysis', 'identified'), 114),\n",
       " (('based', 'analysis'), 112),\n",
       " (('correspondence', 'analysis'), 109),\n",
       " (('correlation', 'analysis'), 107)]"
      ]
     },
     "execution_count": 10,
     "metadata": {},
     "output_type": "execute_result"
    }
   ],
   "source": [
    "#analysis in bigrams\n",
    "bigram_analysis=[]\n",
    "\n",
    "for bigram in all_abstract_bigrams:\n",
    "    if 'analysis' in bigram:\n",
    "        bigram_analysis.append(bigram)\n",
    "\n",
    "bigram_analysis_counter = Counter(bigram_analysis)\n",
    "bigram_analysis_counter.most_common(30)"
   ]
  }
 ],
 "metadata": {
  "kernelspec": {
   "display_name": "Python 3 (ipykernel)",
   "language": "python",
   "name": "python3"
  },
  "language_info": {
   "codemirror_mode": {
    "name": "ipython",
    "version": 3
   },
   "file_extension": ".py",
   "mimetype": "text/x-python",
   "name": "python",
   "nbconvert_exporter": "python",
   "pygments_lexer": "ipython3",
   "version": "3.9.13"
  }
 },
 "nbformat": 4,
 "nbformat_minor": 5
}
