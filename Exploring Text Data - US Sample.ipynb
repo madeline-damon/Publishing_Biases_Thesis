{
 "cells": [
  {
   "cell_type": "markdown",
   "id": "1ff2d29f",
   "metadata": {},
   "source": [
    "# US Text Data\n",
    "\n",
    "14,858 records were classified as US researchers. In previous notebooks, this was accomplished by extracting author addresses and determining which resided in the US and which reside outside the US."
   ]
  },
  {
   "cell_type": "code",
   "execution_count": 1,
   "id": "4a370883",
   "metadata": {},
   "outputs": [],
   "source": [
    "import pandas as pd\n",
    "\n",
    "import nltk\n",
    "from collections import Counter\n",
    "from nltk.corpus import stopwords\n",
    "from nltk import FreqDist\n",
    "from nltk.util import ngrams\n",
    "from nltk.stem import WordNetLemmatizer\n",
    "\n",
    "import matplotlib.pyplot as plt\n",
    "\n",
    "import numpy as np\n",
    "import scipy\n",
    "\n",
    "sw = stopwords.words(\"english\")"
   ]
  },
  {
   "cell_type": "code",
   "execution_count": 2,
   "id": "d3606784",
   "metadata": {},
   "outputs": [],
   "source": [
    "data=pd.read_csv(\"Full_US_Records.csv\", \n",
    "                 usecols= ['Article Title','Source Title','Author Keywords','Abstract',\n",
    "                          'Times Cited, All Databases','Publisher', 'First_A_Country'])"
   ]
  },
  {
   "cell_type": "code",
   "execution_count": 3,
   "id": "3e569a03",
   "metadata": {},
   "outputs": [
    {
     "data": {
      "text/html": [
       "<div>\n",
       "<style scoped>\n",
       "    .dataframe tbody tr th:only-of-type {\n",
       "        vertical-align: middle;\n",
       "    }\n",
       "\n",
       "    .dataframe tbody tr th {\n",
       "        vertical-align: top;\n",
       "    }\n",
       "\n",
       "    .dataframe thead th {\n",
       "        text-align: right;\n",
       "    }\n",
       "</style>\n",
       "<table border=\"1\" class=\"dataframe\">\n",
       "  <thead>\n",
       "    <tr style=\"text-align: right;\">\n",
       "      <th></th>\n",
       "      <th>Article Title</th>\n",
       "      <th>Source Title</th>\n",
       "      <th>Author Keywords</th>\n",
       "      <th>Abstract</th>\n",
       "      <th>Times Cited, All Databases</th>\n",
       "      <th>Publisher</th>\n",
       "      <th>First_A_Country</th>\n",
       "    </tr>\n",
       "  </thead>\n",
       "  <tbody>\n",
       "    <tr>\n",
       "      <th>0</th>\n",
       "      <td>Genome-wide SNPs resolve spatiotemporal patter...</td>\n",
       "      <td>EVOLUTIONARY APPLICATIONS</td>\n",
       "      <td>DArT; genetic connectivity; highly migratory; ...</td>\n",
       "      <td>Genomic methodologies offer unprecedented oppo...</td>\n",
       "      <td>14</td>\n",
       "      <td>WILEY</td>\n",
       "      <td>VA USA</td>\n",
       "    </tr>\n",
       "    <tr>\n",
       "      <th>1</th>\n",
       "      <td>The competitive consumption and fetishism of w...</td>\n",
       "      <td>JOURNAL OF CONSUMER CULTURE</td>\n",
       "      <td>Commodity fetishism; competitive consumption; ...</td>\n",
       "      <td>This article argues that trophy hunting is not...</td>\n",
       "      <td>9</td>\n",
       "      <td>SAGE PUBLICATIONS LTD</td>\n",
       "      <td>UT USA</td>\n",
       "    </tr>\n",
       "    <tr>\n",
       "      <th>2</th>\n",
       "      <td>Ecological Zoos and the Limits of the Public T...</td>\n",
       "      <td>ETHICS POLICY &amp; ENVIRONMENT</td>\n",
       "      <td>Public trust doctrine; wildlife management; to...</td>\n",
       "      <td>The Public Trust Doctrine is the key normative...</td>\n",
       "      <td>0</td>\n",
       "      <td>ROUTLEDGE JOURNALS, TAYLOR &amp; FRANCIS LTD</td>\n",
       "      <td>UT USA</td>\n",
       "    </tr>\n",
       "    <tr>\n",
       "      <th>3</th>\n",
       "      <td>Strategies for managing marine disease</td>\n",
       "      <td>ECOLOGICAL APPLICATIONS</td>\n",
       "      <td>disease ecology; marine conservation; marine w...</td>\n",
       "      <td>The incidence of emerging infectious diseases ...</td>\n",
       "      <td>1</td>\n",
       "      <td>WILEY</td>\n",
       "      <td>USA</td>\n",
       "    </tr>\n",
       "    <tr>\n",
       "      <th>4</th>\n",
       "      <td>Wolves of the Sea: Managing human-wildlife con...</td>\n",
       "      <td>MARINE POLICY</td>\n",
       "      <td>Competition; Depredation; Human-wildlife confl...</td>\n",
       "      <td>Human-wildlife conflict has been receiving inc...</td>\n",
       "      <td>29</td>\n",
       "      <td>ELSEVIER SCI LTD</td>\n",
       "      <td>USA</td>\n",
       "    </tr>\n",
       "    <tr>\n",
       "      <th>...</th>\n",
       "      <td>...</td>\n",
       "      <td>...</td>\n",
       "      <td>...</td>\n",
       "      <td>...</td>\n",
       "      <td>...</td>\n",
       "      <td>...</td>\n",
       "      <td>...</td>\n",
       "    </tr>\n",
       "    <tr>\n",
       "      <th>14853</th>\n",
       "      <td>Carbon budget of the Harvard Forest Long-Term ...</td>\n",
       "      <td>ECOLOGICAL MONOGRAPHS</td>\n",
       "      <td>belowground production; carbon cycling; climat...</td>\n",
       "      <td>How, where, and why carbon (C) moves into and ...</td>\n",
       "      <td>32</td>\n",
       "      <td>WILEY</td>\n",
       "      <td>USA</td>\n",
       "    </tr>\n",
       "    <tr>\n",
       "      <th>14854</th>\n",
       "      <td>Crop pests and predators exhibit inconsistent ...</td>\n",
       "      <td>PROCEEDINGS OF THE NATIONAL ACADEMY OF SCIENCE...</td>\n",
       "      <td>agroecology; biodiversity; biological control;...</td>\n",
       "      <td>The idea that noncrop habitat enhances pest co...</td>\n",
       "      <td>315</td>\n",
       "      <td>NATL ACAD SCIENCES</td>\n",
       "      <td>USA</td>\n",
       "    </tr>\n",
       "    <tr>\n",
       "      <th>14855</th>\n",
       "      <td>SAFETY OF MULTIPLE-DOSE INTRAMUSCULAR KETOPROF...</td>\n",
       "      <td>JOURNAL OF ZOO AND WILDLIFE MEDICINE</td>\n",
       "      <td>NaN</td>\n",
       "      <td>Sea turtles are frequently presented for rehab...</td>\n",
       "      <td>3</td>\n",
       "      <td>AMER ASSOC ZOO VETERINARIANS</td>\n",
       "      <td>USA</td>\n",
       "    </tr>\n",
       "    <tr>\n",
       "      <th>14856</th>\n",
       "      <td>Repeated large-scale mechanical treatment of i...</td>\n",
       "      <td>SCIENCE OF THE TOTAL ENVIRONMENT</td>\n",
       "      <td>Carbon; Freshwater wetland; Management tradeof...</td>\n",
       "      <td>Invasive species management typically aims to ...</td>\n",
       "      <td>0</td>\n",
       "      <td>ELSEVIER</td>\n",
       "      <td>USA</td>\n",
       "    </tr>\n",
       "    <tr>\n",
       "      <th>14857</th>\n",
       "      <td>The influence of sampling design on spatial da...</td>\n",
       "      <td>TRANSACTIONS IN GIS</td>\n",
       "      <td>NaN</td>\n",
       "      <td>Geographic citizen science has much potential ...</td>\n",
       "      <td>9</td>\n",
       "      <td>WILEY</td>\n",
       "      <td>USA</td>\n",
       "    </tr>\n",
       "  </tbody>\n",
       "</table>\n",
       "<p>14858 rows × 7 columns</p>\n",
       "</div>"
      ],
      "text/plain": [
       "                                           Article Title  \\\n",
       "0      Genome-wide SNPs resolve spatiotemporal patter...   \n",
       "1      The competitive consumption and fetishism of w...   \n",
       "2      Ecological Zoos and the Limits of the Public T...   \n",
       "3                 Strategies for managing marine disease   \n",
       "4      Wolves of the Sea: Managing human-wildlife con...   \n",
       "...                                                  ...   \n",
       "14853  Carbon budget of the Harvard Forest Long-Term ...   \n",
       "14854  Crop pests and predators exhibit inconsistent ...   \n",
       "14855  SAFETY OF MULTIPLE-DOSE INTRAMUSCULAR KETOPROF...   \n",
       "14856  Repeated large-scale mechanical treatment of i...   \n",
       "14857  The influence of sampling design on spatial da...   \n",
       "\n",
       "                                            Source Title  \\\n",
       "0                              EVOLUTIONARY APPLICATIONS   \n",
       "1                            JOURNAL OF CONSUMER CULTURE   \n",
       "2                            ETHICS POLICY & ENVIRONMENT   \n",
       "3                                ECOLOGICAL APPLICATIONS   \n",
       "4                                          MARINE POLICY   \n",
       "...                                                  ...   \n",
       "14853                              ECOLOGICAL MONOGRAPHS   \n",
       "14854  PROCEEDINGS OF THE NATIONAL ACADEMY OF SCIENCE...   \n",
       "14855               JOURNAL OF ZOO AND WILDLIFE MEDICINE   \n",
       "14856                   SCIENCE OF THE TOTAL ENVIRONMENT   \n",
       "14857                                TRANSACTIONS IN GIS   \n",
       "\n",
       "                                         Author Keywords  \\\n",
       "0      DArT; genetic connectivity; highly migratory; ...   \n",
       "1      Commodity fetishism; competitive consumption; ...   \n",
       "2      Public trust doctrine; wildlife management; to...   \n",
       "3      disease ecology; marine conservation; marine w...   \n",
       "4      Competition; Depredation; Human-wildlife confl...   \n",
       "...                                                  ...   \n",
       "14853  belowground production; carbon cycling; climat...   \n",
       "14854  agroecology; biodiversity; biological control;...   \n",
       "14855                                                NaN   \n",
       "14856  Carbon; Freshwater wetland; Management tradeof...   \n",
       "14857                                                NaN   \n",
       "\n",
       "                                                Abstract  \\\n",
       "0      Genomic methodologies offer unprecedented oppo...   \n",
       "1      This article argues that trophy hunting is not...   \n",
       "2      The Public Trust Doctrine is the key normative...   \n",
       "3      The incidence of emerging infectious diseases ...   \n",
       "4      Human-wildlife conflict has been receiving inc...   \n",
       "...                                                  ...   \n",
       "14853  How, where, and why carbon (C) moves into and ...   \n",
       "14854  The idea that noncrop habitat enhances pest co...   \n",
       "14855  Sea turtles are frequently presented for rehab...   \n",
       "14856  Invasive species management typically aims to ...   \n",
       "14857  Geographic citizen science has much potential ...   \n",
       "\n",
       "       Times Cited, All Databases                                 Publisher  \\\n",
       "0                              14                                     WILEY   \n",
       "1                               9                     SAGE PUBLICATIONS LTD   \n",
       "2                               0  ROUTLEDGE JOURNALS, TAYLOR & FRANCIS LTD   \n",
       "3                               1                                     WILEY   \n",
       "4                              29                          ELSEVIER SCI LTD   \n",
       "...                           ...                                       ...   \n",
       "14853                          32                                     WILEY   \n",
       "14854                         315                        NATL ACAD SCIENCES   \n",
       "14855                           3              AMER ASSOC ZOO VETERINARIANS   \n",
       "14856                           0                                  ELSEVIER   \n",
       "14857                           9                                     WILEY   \n",
       "\n",
       "      First_A_Country  \n",
       "0              VA USA  \n",
       "1              UT USA  \n",
       "2              UT USA  \n",
       "3                 USA  \n",
       "4                 USA  \n",
       "...               ...  \n",
       "14853             USA  \n",
       "14854             USA  \n",
       "14855             USA  \n",
       "14856             USA  \n",
       "14857             USA  \n",
       "\n",
       "[14858 rows x 7 columns]"
      ]
     },
     "execution_count": 3,
     "metadata": {},
     "output_type": "execute_result"
    }
   ],
   "source": [
    "data"
   ]
  },
  {
   "cell_type": "markdown",
   "id": "b1270549",
   "metadata": {},
   "source": [
    "## Keyword Data"
   ]
  },
  {
   "cell_type": "code",
   "execution_count": 4,
   "id": "0c0020d3",
   "metadata": {},
   "outputs": [],
   "source": [
    "keywords=data['Author Keywords'] ##saving just the keywords column"
   ]
  },
  {
   "cell_type": "code",
   "execution_count": 6,
   "id": "30f76ec1",
   "metadata": {},
   "outputs": [
    {
     "data": {
      "text/plain": [
       "14858"
      ]
     },
     "execution_count": 6,
     "metadata": {},
     "output_type": "execute_result"
    }
   ],
   "source": [
    "keyword_data=[] ##creating a list to store string of data\n",
    "\n",
    "for item in keywords:  #Make everything in the column  a string of text\n",
    "    string=str(item)\n",
    "    keyword_data.append(string)\n",
    "    \n",
    "len(keyword_data)"
   ]
  },
  {
   "cell_type": "code",
   "execution_count": 7,
   "id": "492cc054",
   "metadata": {},
   "outputs": [
    {
     "data": {
      "text/plain": [
       "'DArT; genetic connectivity; highly migratory; large pelagic fish; population genomics; SNPs; striped marlin; temporal stability'"
      ]
     },
     "execution_count": 7,
     "metadata": {},
     "output_type": "execute_result"
    }
   ],
   "source": [
    "keyword_data[0]"
   ]
  },
  {
   "cell_type": "code",
   "execution_count": 8,
   "id": "9ff032c4",
   "metadata": {},
   "outputs": [],
   "source": [
    "tokens=nltk.word_tokenize(str(keyword_data))"
   ]
  },
  {
   "cell_type": "code",
   "execution_count": 9,
   "id": "a071059c",
   "metadata": {},
   "outputs": [],
   "source": [
    "cleaned_tokens=[] ##Space to store clean tokens\n",
    "\n",
    "for w in tokens:\n",
    "        if w not in sw and w.isalpha(): #Removing tokens including stopwords and punctuation\n",
    "            cleaned_tokens.append(w.lower())    ##Make everything lowercase"
   ]
  },
  {
   "cell_type": "code",
   "execution_count": 10,
   "id": "672dd7e8",
   "metadata": {},
   "outputs": [
    {
     "data": {
      "text/plain": [
       "['genetic',\n",
       " 'connectivity',\n",
       " 'highly',\n",
       " 'migratory',\n",
       " 'large',\n",
       " 'pelagic',\n",
       " 'fish',\n",
       " 'population',\n",
       " 'genomics',\n",
       " 'snps',\n",
       " 'striped',\n",
       " 'marlin',\n",
       " 'temporal',\n",
       " 'stability',\n",
       " 'fetishism',\n",
       " 'competitive',\n",
       " 'consumption',\n",
       " 'conspicuous',\n",
       " 'consumption',\n",
       " 'trophy']"
      ]
     },
     "execution_count": 10,
     "metadata": {},
     "output_type": "execute_result"
    }
   ],
   "source": [
    "cleaned_tokens[:20]"
   ]
  },
  {
   "cell_type": "code",
   "execution_count": 11,
   "id": "1f9bfcc4",
   "metadata": {},
   "outputs": [
    {
     "data": {
      "image/png": "[encoded data removed]",
      "text/plain": [
       "<Figure size 640x480 with 1 Axes>"
      ]
     },
     "metadata": {},
     "output_type": "display_data"
    },
    {
     "data": {
      "text/plain": [
       "<AxesSubplot:xlabel='Samples', ylabel='Counts'>"
      ]
     },
     "execution_count": 11,
     "metadata": {},
     "output_type": "execute_result"
    }
   ],
   "source": [
    "#Visualizing the most common keywords\n",
    "\n",
    "fdist = FreqDist(cleaned_tokens)\n",
    "    \n",
    "    \n",
    "fdist.plot(20)"
   ]
  },
  {
   "cell_type": "markdown",
   "id": "d40803d2",
   "metadata": {},
   "source": [
    "### Bigrams - Keyword Data"
   ]
  },
  {
   "cell_type": "code",
   "execution_count": 12,
   "id": "1e1eef74",
   "metadata": {},
   "outputs": [
    {
     "data": {
      "text/plain": [
       "14858"
      ]
     },
     "execution_count": 12,
     "metadata": {},
     "output_type": "execute_result"
    }
   ],
   "source": [
    "keyword_bigrams=[]\n",
    "\n",
    "for words in keyword_data:\n",
    "    tokens = nltk.word_tokenize(words)\n",
    "    tokens = [t.lower() for t in tokens if t not in sw]\n",
    "    word_l = WordNetLemmatizer()\n",
    "    tokens = [word_l.lemmatize(t) for t in tokens if t.isalpha()]\n",
    "\n",
    "    bi_grams = list(ngrams(tokens, 2))\n",
    "    \n",
    "    \n",
    "    keyword_bigrams.append(bi_grams)\n",
    "\n",
    "len(keyword_bigrams)\n",
    " ##currently bigrams is a list of lists of bigrams"
   ]
  },
  {
   "cell_type": "code",
   "execution_count": 13,
   "id": "9516d5b8",
   "metadata": {},
   "outputs": [
    {
     "data": {
      "text/plain": [
       "[(('climate', 'change'), 596),\n",
       " (('protected', 'area'), 310),\n",
       " (('endangered', 'specie'), 273),\n",
       " (('coral', 'reef'), 232),\n",
       " (('invasive', 'specie'), 222),\n",
       " (('stable', 'isotope'), 210),\n",
       " (('specie', 'distribution'), 204),\n",
       " (('marine', 'protected'), 169),\n",
       " (('habitat', 'selection'), 168),\n",
       " (('ecosystem', 'service'), 149),\n",
       " (('fishery', 'management'), 148),\n",
       " (('gulf', 'mexico'), 137),\n",
       " (('life', 'history'), 133),\n",
       " (('marine', 'mammal'), 128),\n",
       " (('distribution', 'model'), 127),\n",
       " (('sic', 'sic'), 127),\n",
       " (('remote', 'sensing'), 123),\n",
       " (('camera', 'trap'), 122),\n",
       " (('wildlife', 'management'), 121),\n",
       " (('resource', 'selection'), 120),\n",
       " (('movement', 'ecology'), 116),\n",
       " (('sea', 'turtle'), 114),\n",
       " (('population', 'dynamic'), 109),\n",
       " (('home', 'range'), 107),\n",
       " (('conservation', 'planning'), 107),\n",
       " (('habitat', 'use'), 100),\n",
       " (('citizen', 'science'), 99),\n",
       " (('food', 'web'), 93),\n",
       " (('ocean', 'acidification'), 93),\n",
       " (('national', 'park'), 91)]"
      ]
     },
     "execution_count": 13,
     "metadata": {},
     "output_type": "execute_result"
    }
   ],
   "source": [
    "# how to flatten list of lists\n",
    " \n",
    "# using list comprehension\n",
    "all_keyword_bigrams = [item for sublist in keyword_bigrams for item in sublist]\n",
    "all_keyword_bigrams\n",
    "\n",
    "# counting all bigrams\n",
    "counter = Counter(all_keyword_bigrams)\n",
    "counter.most_common(30)"
   ]
  },
  {
   "cell_type": "markdown",
   "id": "51b67f1f",
   "metadata": {},
   "source": [
    "### Trigrams - Keyword Data"
   ]
  },
  {
   "cell_type": "code",
   "execution_count": 14,
   "id": "1c3b1e75",
   "metadata": {},
   "outputs": [],
   "source": [
    "keyword_trigrams=[]\n",
    "\n",
    "for words in keyword_data:\n",
    "    tokens = nltk.word_tokenize(words)\n",
    "    tokens = [t.lower() for t in tokens if t not in sw]\n",
    "    word_l = WordNetLemmatizer()\n",
    "    tokens = [word_l.lemmatize(t) for t in tokens if t.isalpha()]\n",
    "\n",
    "    tri_grams = list(ngrams(tokens, 3))\n",
    "    \n",
    "    \n",
    "    keyword_trigrams.append(tri_grams)"
   ]
  },
  {
   "cell_type": "code",
   "execution_count": 15,
   "id": "e46151c6",
   "metadata": {},
   "outputs": [
    {
     "data": {
      "text/plain": [
       "[(('marine', 'protected', 'area'), 169),\n",
       " (('specie', 'distribution', 'model'), 123),\n",
       " (('sic', 'sic', 'sic'), 120),\n",
       " (('resource', 'selection', 'function'), 51),\n",
       " (('stable', 'isotope', 'analysis'), 50),\n",
       " (('harmful', 'algal', 'bloom'), 46),\n",
       " (('endangered', 'specie', 'act'), 42),\n",
       " (('passive', 'acoustic', 'monitoring'), 40),\n",
       " (('specie', 'distribution', 'modeling'), 32),\n",
       " (('population', 'viability', 'analysis'), 32),\n",
       " (('emerging', 'infectious', 'disease'), 31),\n",
       " (('marine', 'spatial', 'planning'), 31),\n",
       " (('conservation', 'reserve', 'program'), 31),\n",
       " (('chronic', 'wasting', 'disease'), 30),\n",
       " (('effective', 'population', 'size'), 30),\n",
       " (('integrated', 'population', 'model'), 29),\n",
       " (('generalized', 'additive', 'model'), 28),\n",
       " (('ecological', 'niche', 'model'), 28),\n",
       " (('climate', 'change', 'conservation'), 28),\n",
       " (('single', 'nucleotide', 'polymorphism'), 27),\n",
       " (('natural', 'resource', 'management'), 25),\n",
       " (('national', 'wildlife', 'refuge'), 25),\n",
       " (('sea', 'level', 'rise'), 22),\n",
       " (('conservation', 'endangered', 'specie'), 22),\n",
       " (('deer', 'odocoileus', 'hemionus'), 20),\n",
       " (('indian', 'river', 'lagoon'), 20),\n",
       " (('protected', 'area', 'marine'), 19),\n",
       " (('local', 'ecological', 'knowledge'), 19),\n",
       " (('illegal', 'wildlife', 'trade'), 19),\n",
       " (('sea', 'surface', 'temperature'), 19)]"
      ]
     },
     "execution_count": 15,
     "metadata": {},
     "output_type": "execute_result"
    }
   ],
   "source": [
    "# flatten list of lists\n",
    " \n",
    "# using list comprehension\n",
    "all_keyword_trigrams = [item for sublist in keyword_trigrams for item in sublist]\n",
    "\n",
    "# counting all bigrams\n",
    "counter = Counter(all_keyword_trigrams)\n",
    "counter.most_common(30)"
   ]
  },
  {
   "cell_type": "markdown",
   "id": "9c2f0df7",
   "metadata": {},
   "source": [
    "## Abstract Data"
   ]
  },
  {
   "cell_type": "code",
   "execution_count": 3,
   "id": "e17994e4",
   "metadata": {},
   "outputs": [
    {
     "data": {
      "text/plain": [
       "\"This article argues that trophy hunting is not an ahistorical phenomenon. Hunting for sport became popular among US elites in the late 1800s. Since this time, in addition to animal trophies being displayed as evidence of one's economic and cultural capital, these commodities have served as symbolic evidence of their owner's courage, skill, and fortitude. Currently, the hunting industry (i.e. sporting goods retailers, weapons manufacturers, and advertising supported media) seeks to perpetuate and expand these perceptions. Displaying animal trophies is unlike many other forms of competitive consumption, such as displaying expensive jewelry, in that the hunting industry has attempted to create the often false perception that these commodities required their owners to conquer dangerous and cunning opponents. Trophy hunting is unlike many other sports, in that economic resources, as opposed to skill, are often the primary factor in determining one's success. Therefore, the use values of animal trophies are fetishized.\""
      ]
     },
     "execution_count": 3,
     "metadata": {},
     "output_type": "execute_result"
    }
   ],
   "source": [
    "abstract=data['Abstract']\n",
    "\n",
    "abstract_strings=[] ##creating a list to store string of data\n",
    "\n",
    "for item in abstract:  #Make everything in the column  a string of text\n",
    "    string=str(item)\n",
    "    abstract_strings.append(string)\n",
    "       \n",
    "abstract_strings[1]"
   ]
  },
  {
   "cell_type": "code",
   "execution_count": 17,
   "id": "16cb3ccc",
   "metadata": {},
   "outputs": [],
   "source": [
    "tokens=nltk.word_tokenize(str(abstract_strings)) ##tokenize all of the text strings\n",
    "len(tokens)\n",
    "\n",
    "\n",
    "cleaned_tokens=[] ##Space to store clean tokens\n",
    "\n",
    "for w in tokens:\n",
    "        if w not in sw and w.isalpha(): #Removing tokens including stopwords and punctuation\n",
    "            cleaned_tokens.append(w.lower())    ##Make everything lowercase"
   ]
  },
  {
   "cell_type": "code",
   "execution_count": 19,
   "id": "466ea185",
   "metadata": {},
   "outputs": [
    {
     "name": "stdout",
     "output_type": "stream",
     "text": [
      "4115234\n",
      "2295439\n"
     ]
    }
   ],
   "source": [
    "print(len(tokens))\n",
    "print(len(cleaned_tokens))"
   ]
  },
  {
   "cell_type": "code",
   "execution_count": 20,
   "id": "e735c40d",
   "metadata": {},
   "outputs": [
    {
     "data": {
      "image/png": "[encoded data removed]",
      "text/plain": [
       "<Figure size 640x480 with 1 Axes>"
      ]
     },
     "metadata": {},
     "output_type": "display_data"
    },
    {
     "data": {
      "text/plain": [
       "<AxesSubplot:xlabel='Samples', ylabel='Counts'>"
      ]
     },
     "execution_count": 20,
     "metadata": {},
     "output_type": "execute_result"
    }
   ],
   "source": [
    "fdist = FreqDist(cleaned_tokens)\n",
    "    \n",
    "    \n",
    "fdist.plot(20)"
   ]
  },
  {
   "cell_type": "code",
   "execution_count": 25,
   "id": "d336169b",
   "metadata": {},
   "outputs": [],
   "source": [
    "#removing unnecessary words\n",
    "\n",
    "additional_stopwords=['the','we','study','in','results','this','using','used','also', 'may','two','high','however','important','found',\n",
    "                     'our','use','within','across','showed','higher','one','based','three','effects','among','studies']\n",
    "\n",
    "clean_tokens_2 = []\n",
    "for token in cleaned_tokens:\n",
    "    if token not in additional_stopwords:\n",
    "        clean_tokens_2.append(token)"
   ]
  },
  {
   "cell_type": "code",
   "execution_count": 26,
   "id": "53a00217",
   "metadata": {},
   "outputs": [
    {
     "data": {
      "text/plain": [
       "[('species', 24875),\n",
       " ('habitat', 9876),\n",
       " ('data', 9205),\n",
       " ('conservation', 9131),\n",
       " ('population', 8637),\n",
       " ('management', 7880),\n",
       " ('populations', 6975),\n",
       " ('marine', 6924),\n",
       " ('wildlife', 6670),\n",
       " ('areas', 5593),\n",
       " ('fish', 5313),\n",
       " ('model', 4796),\n",
       " ('ecological', 4718),\n",
       " ('sites', 4555),\n",
       " ('abundance', 4533),\n",
       " ('environmental', 4464),\n",
       " ('potential', 4453),\n",
       " ('models', 4336),\n",
       " ('increased', 4250),\n",
       " ('range', 4217),\n",
       " ('spatial', 4060),\n",
       " ('time', 4021),\n",
       " ('change', 3971),\n",
       " ('changes', 3800),\n",
       " ('survival', 3781),\n",
       " ('size', 3747),\n",
       " ('associated', 3737),\n",
       " ('rates', 3727),\n",
       " ('patterns', 3700),\n",
       " ('provide', 3672)]"
      ]
     },
     "execution_count": 26,
     "metadata": {},
     "output_type": "execute_result"
    }
   ],
   "source": [
    "# counting all tokens\n",
    "token_counter = Counter(clean_tokens_2)\n",
    "token_counter.most_common(30)"
   ]
  },
  {
   "cell_type": "markdown",
   "id": "99da3035",
   "metadata": {},
   "source": [
    "### Bigrams - Abstract Data"
   ]
  },
  {
   "cell_type": "code",
   "execution_count": 11,
   "id": "9376fa81",
   "metadata": {},
   "outputs": [
    {
     "data": {
      "text/plain": [
       "14858"
      ]
     },
     "execution_count": 11,
     "metadata": {},
     "output_type": "execute_result"
    }
   ],
   "source": [
    "abstract_bigrams=[]\n",
    "\n",
    "for words in abstract_strings:\n",
    "    tokens = nltk.word_tokenize(words)\n",
    "    tokens = [t.lower() for t in tokens if t not in sw]\n",
    "    word_l = WordNetLemmatizer()\n",
    "    tokens = [word_l.lemmatize(t) for t in tokens if t.isalpha()]\n",
    "\n",
    "    bi_grams = list(ngrams(tokens, 2))\n",
    "    \n",
    "    \n",
    "    abstract_bigrams.append(bi_grams)\n",
    "\n",
    "len(abstract_bigrams)\n",
    " ##currently bigrams is a list of lists of bigrams"
   ]
  },
  {
   "cell_type": "code",
   "execution_count": 12,
   "id": "58b75a5f",
   "metadata": {},
   "outputs": [
    {
     "data": {
      "text/plain": [
       "[(('our', 'result'), 2113),\n",
       " (('we', 'found'), 1853),\n",
       " (('we', 'used'), 1793),\n",
       " (('climate', 'change'), 1768),\n",
       " (('united', 'state'), 1577),\n",
       " (('this', 'study'), 1200),\n",
       " (('result', 'suggest'), 1194),\n",
       " (('we', 'also'), 1137),\n",
       " (('protected', 'area'), 1007),\n",
       " (('these', 'result'), 902),\n",
       " (('north', 'america'), 886),\n",
       " (('life', 'history'), 880),\n",
       " (('coral', 'reef'), 774),\n",
       " (('specie', 'richness'), 767),\n",
       " (('growth', 'rate'), 755),\n",
       " (('home', 'range'), 751),\n",
       " (('in', 'study'), 733),\n",
       " (('habitat', 'use'), 725),\n",
       " (('degree', 'c'), 720),\n",
       " (('our', 'finding'), 669),\n",
       " (('spatial', 'scale'), 666),\n",
       " (('genetic', 'diversity'), 660),\n",
       " (('c', 'the'), 652),\n",
       " (('environmental', 'condition'), 647),\n",
       " (('food', 'web'), 631),\n",
       " (('in', 'addition'), 625),\n",
       " (('study', 'area'), 606),\n",
       " (('conservation', 'effort'), 601),\n",
       " (('endangered', 'specie'), 600),\n",
       " (('population', 'size'), 600)]"
      ]
     },
     "execution_count": 12,
     "metadata": {},
     "output_type": "execute_result"
    }
   ],
   "source": [
    "# how to flatten list of lists\n",
    " \n",
    "# using list comprehension\n",
    "all_abstract_bigrams = [item for sublist in abstract_bigrams for item in sublist]\n",
    "\n",
    "# counting all bigrams\n",
    "counter = Counter(all_abstract_bigrams)\n",
    "counter.most_common(30)"
   ]
  },
  {
   "cell_type": "code",
   "execution_count": 15,
   "id": "d98b0d22",
   "metadata": {},
   "outputs": [],
   "source": [
    "##Removing some irrelevant bigrams\n",
    "\n",
    "bad_bigrams=[('we', 'also'), ('in', 'study'),('in', 'addition'),('we', 'used'),('published', 'elsevier'),\n",
    "('our', 'result'),('we', 'found'),('the', 'result'),('this', 'study'),('our', 'study'), ('degree', 'c'), ('present', 'study')\n",
    "            ,('result', 'suggest'),('these', 'result'), ('result', 'showed'),('result', 'show'),('study', 'area'),\n",
    "            ('all', 'right'),('right', 'reserved'),('our', 'finding'),('a', 'total'),('elsevier', 'all'),('c', 'elsevier'),\n",
    "            ('first', 'time'), ('the', 'present'), ('specie', 'the'),('in', 'contrast'),('the', 'study'),('result', 'indicate'),\n",
    "            ('important', 'role'), ('study', 'provides'),('c', 'the'),('we', 'examined'),('we', 'conducted'),('wildlife','society'),\n",
    "            ('the','wildlife')]\n",
    "\n",
    "clean_abstract_bigrams = []\n",
    "for bigram in all_abstract_bigrams:\n",
    "    if bigram not in bad_bigrams:\n",
    "        clean_abstract_bigrams.append(bigram)"
   ]
  },
  {
   "cell_type": "code",
   "execution_count": 16,
   "id": "1a2891d6",
   "metadata": {},
   "outputs": [
    {
     "data": {
      "text/plain": [
       "[(('climate', 'change'), 1768),\n",
       " (('united', 'state'), 1577),\n",
       " (('protected', 'area'), 1007),\n",
       " (('north', 'america'), 886),\n",
       " (('life', 'history'), 880),\n",
       " (('coral', 'reef'), 774),\n",
       " (('specie', 'richness'), 767),\n",
       " (('growth', 'rate'), 755),\n",
       " (('home', 'range'), 751),\n",
       " (('habitat', 'use'), 725),\n",
       " (('spatial', 'scale'), 666),\n",
       " (('genetic', 'diversity'), 660),\n",
       " (('environmental', 'condition'), 647),\n",
       " (('food', 'web'), 631),\n",
       " (('conservation', 'effort'), 601),\n",
       " (('endangered', 'specie'), 600),\n",
       " (('population', 'size'), 600),\n",
       " (('body', 'size'), 568),\n",
       " (('gulf', 'mexico'), 563),\n",
       " (('sea', 'turtle'), 559),\n",
       " (('marine', 'ecosystem'), 557),\n",
       " (('conservation', 'management'), 549),\n",
       " (('population', 'dynamic'), 546),\n",
       " (('ecosystem', 'service'), 536),\n",
       " (('case', 'study'), 508),\n",
       " (('spatial', 'temporal'), 507),\n",
       " (('specie', 'distribution'), 498),\n",
       " (('microbial', 'community'), 496),\n",
       " (('habitat', 'selection'), 491),\n",
       " (('community', 'composition'), 477)]"
      ]
     },
     "execution_count": 16,
     "metadata": {},
     "output_type": "execute_result"
    }
   ],
   "source": [
    "bigram_counter = Counter(clean_abstract_bigrams)\n",
    "bigram_counter.most_common(30)"
   ]
  },
  {
   "cell_type": "markdown",
   "id": "f7b7e127",
   "metadata": {},
   "source": [
    "### Trigrams - Abstract Data"
   ]
  },
  {
   "cell_type": "code",
   "execution_count": 4,
   "id": "b66f1686",
   "metadata": {},
   "outputs": [],
   "source": [
    "abstract_trigrams=[]\n",
    "\n",
    "for words in abstract_strings:\n",
    "    tokens = nltk.word_tokenize(words)\n",
    "    tokens = [t.lower() for t in tokens if t not in sw]\n",
    "    word_l = WordNetLemmatizer()\n",
    "    tokens = [word_l.lemmatize(t) for t in tokens if t.isalpha()]\n",
    "\n",
    "    tri_grams = list(ngrams(tokens, 3))\n",
    "    \n",
    "    \n",
    "    abstract_trigrams.append(tri_grams)"
   ]
  },
  {
   "cell_type": "code",
   "execution_count": 5,
   "id": "797dc8aa",
   "metadata": {},
   "outputs": [
    {
     "data": {
      "text/plain": [
       "[(('our', 'result', 'suggest'), 566),\n",
       " (('the', 'wildlife', 'society'), 472),\n",
       " (('c', 'the', 'wildlife'), 428),\n",
       " (('our', 'result', 'indicate'), 295),\n",
       " (('marine', 'protected', 'area'), 287),\n",
       " (('specie', 'conservation', 'concern'), 236),\n",
       " (('we', 'also', 'found'), 226),\n",
       " (('these', 'result', 'suggest'), 223),\n",
       " (('all', 'right', 'reserved'), 218),\n",
       " (('national', 'wildlife', 'refuge'), 216),\n",
       " (('endangered', 'specie', 'act'), 211),\n",
       " (('elsevier', 'all', 'right'), 204),\n",
       " (('sea', 'surface', 'temperature'), 180),\n",
       " (('fish', 'wildlife', 'service'), 175),\n",
       " (('our', 'result', 'show'), 171),\n",
       " (('our', 'finding', 'suggest'), 167),\n",
       " (('population', 'growth', 'rate'), 165),\n",
       " (('specie', 'distribution', 'model'), 160),\n",
       " (('play', 'important', 'role'), 155),\n",
       " (('c', 'the', 'author'), 154),\n",
       " (('our', 'result', 'demonstrate'), 150),\n",
       " (('southeastern', 'united', 'state'), 145),\n",
       " (('this', 'study', 'provides'), 143),\n",
       " (('western', 'united', 'state'), 141),\n",
       " (('home', 'range', 'size'), 140),\n",
       " (('temperature', 'degree', 'c'), 140),\n",
       " (('stable', 'isotope', 'analysis'), 135),\n",
       " (('to', 'better', 'understand'), 133),\n",
       " (('northern', 'gulf', 'mexico'), 129),\n",
       " (('our', 'result', 'highlight'), 120)]"
      ]
     },
     "execution_count": 5,
     "metadata": {},
     "output_type": "execute_result"
    }
   ],
   "source": [
    "# flatten list of lists\n",
    " \n",
    "# using list comprehension\n",
    "all_abstract_trigrams = [item for sublist in abstract_trigrams for item in sublist]\n",
    "\n",
    "# counting all bigrams\n",
    "counter = Counter(all_abstract_trigrams)\n",
    "counter.most_common(30)"
   ]
  },
  {
   "cell_type": "code",
   "execution_count": 8,
   "id": "6b9d267d",
   "metadata": {},
   "outputs": [],
   "source": [
    "##Removing irrelevant trigrams\n",
    "\n",
    "bad_trigrams=[('ciencia', 'ccologica', 'e'),('de', 'ciencia', 'ccologica'),('brasileira', 'de', 'ciencia'),('the', 'result', 'study'),\n",
    "             ('our', 'result', 'suggest'),('our', 'result', 'show'),('play', 'important', 'role'), ('elsevier', 'all', 'right'),\n",
    "             ('the', 'result', 'showed'),('all', 'right', 'reserved'),('c', 'the', 'authors'),('the', 'authors', 'published'),\n",
    "             ('authors', 'published', 'elsevier'),('the', 'result', 'show'),('c', 'elsevier', 'all'),('the', 'present', 'study'),\n",
    "             ('part', 'per', 'thousand'),('in', 'present', 'study'),('this', 'study', 'provides'),('c', 'the', 'author'),\n",
    "             ('temperature', 'degree', 'c'),('the', 'author', 'published'),('author', 'published', 'elsevier'),\n",
    "             ('the', 'aim', 'study'),('the', 'aim', 'study'),('these', 'result', 'suggest'),('our', 'result', 'indicate'),\n",
    "             ('this', 'study', 'aimed'),('our', 'result', 'showed'),('our', 'finding', 'suggest'),('we', 'also', 'found'),\n",
    "             ('our', 'result', 'highlight'),('however', 'little', 'known'),('this', 'study', 'highlight'),('this', 'study', 'aim'),\n",
    "             ('this', 'study', 'investigated'),('our', 'study', 'provides'),('our', 'result', 'provide'),('our', 'result', 'demonstrate'),\n",
    "             ('c', 'degree', 'c'),('degree', 'c', 'degree'),('in', 'study', 'used'), ('in', 'study', 'investigated'),('c', 'published', 'elsevier'),\n",
    "             ('in', 'recent', 'year'),('the', 'result', 'indicate'),('c', 'the', 'wildlife'),('to', 'better', 'understand'),\n",
    "             ('united', 'state', 'we'),('the', 'objective', 'study'),('we', 'found', 'evidence'),('these', 'finding', 'suggest'),\n",
    "             ('the','wildlife','society'),('these','result','indicate')]\n",
    "\n",
    "clean_abstract_trigrams = []\n",
    "for trigram in all_abstract_trigrams:\n",
    "    if trigram not in bad_trigrams:\n",
    "        clean_abstract_trigrams.append(trigram)"
   ]
  },
  {
   "cell_type": "code",
   "execution_count": 9,
   "id": "8fe4dc99",
   "metadata": {},
   "outputs": [
    {
     "data": {
      "text/plain": [
       "[(('marine', 'protected', 'area'), 287),\n",
       " (('specie', 'conservation', 'concern'), 236),\n",
       " (('national', 'wildlife', 'refuge'), 216),\n",
       " (('endangered', 'specie', 'act'), 211),\n",
       " (('sea', 'surface', 'temperature'), 180),\n",
       " (('fish', 'wildlife', 'service'), 175),\n",
       " (('population', 'growth', 'rate'), 165),\n",
       " (('specie', 'distribution', 'model'), 160),\n",
       " (('southeastern', 'united', 'state'), 145),\n",
       " (('western', 'united', 'state'), 141),\n",
       " (('home', 'range', 'size'), 140),\n",
       " (('stable', 'isotope', 'analysis'), 135),\n",
       " (('northern', 'gulf', 'mexico'), 129),\n",
       " (('global', 'positioning', 'system'), 119),\n",
       " (('black', 'bear', 'ursus'), 118),\n",
       " (('spatial', 'temporal', 'scale'), 117),\n",
       " (('protected', 'area', 'mpas'), 117),\n",
       " (('coyote', 'canis', 'latrans'), 117),\n",
       " (('deer', 'odocoileus', 'virginianus'), 115),\n",
       " (('bear', 'ursus', 'americanus'), 115),\n",
       " (('effective', 'population', 'size'), 114),\n",
       " (('sea', 'level', 'rise'), 107),\n",
       " (('western', 'north', 'america'), 100),\n",
       " (('single', 'nucleotide', 'polymorphism'), 99),\n",
       " (('effect', 'climate', 'change'), 97),\n",
       " (('linear', 'mixed', 'model'), 95),\n",
       " (('wolf', 'canis', 'lupus'), 92),\n",
       " (('generalized', 'linear', 'model'), 90),\n",
       " (('generalized', 'linear', 'mixed'), 87),\n",
       " (('resource', 'selection', 'function'), 86)]"
      ]
     },
     "execution_count": 9,
     "metadata": {},
     "output_type": "execute_result"
    }
   ],
   "source": [
    "trigram_counter = Counter(clean_abstract_trigrams)\n",
    "trigram_counter.most_common(30)"
   ]
  },
  {
   "cell_type": "markdown",
   "id": "d5ac0140",
   "metadata": {},
   "source": [
    "## Identifying Elements of Research Design"
   ]
  },
  {
   "cell_type": "code",
   "execution_count": 18,
   "id": "bdcbce0e",
   "metadata": {},
   "outputs": [
    {
     "data": {
      "text/plain": [
       "1638"
      ]
     },
     "execution_count": 18,
     "metadata": {},
     "output_type": "execute_result"
    }
   ],
   "source": [
    "len(trigram_theories)"
   ]
  },
  {
   "cell_type": "code",
   "execution_count": 17,
   "id": "4f6fcf77",
   "metadata": {},
   "outputs": [
    {
     "data": {
      "text/plain": [
       "[(('optimal', 'foraging', 'theory'), 8),\n",
       " (('theory', 'planned', 'behavior'), 7),\n",
       " (('using', 'circuit', 'theory'), 4),\n",
       " (('ecological', 'theory', 'predicts'), 4),\n",
       " (('life', 'history', 'theory'), 4),\n",
       " (('social', 'science', 'theory'), 4),\n",
       " (('farmer', 'identity', 'theory'), 3),\n",
       " (('graph', 'theory', 'metric'), 3),\n",
       " (('population', 'genetic', 'theory'), 3),\n",
       " (('modern', 'portfolio', 'theory'), 3),\n",
       " (('cumulative', 'trophic', 'theory'), 3),\n",
       " (('island', 'biogeography', 'theory'), 3),\n",
       " (('food', 'web', 'theory'), 3),\n",
       " (('theory', 'suggests', 'presence'), 3),\n",
       " (('component', 'theory', 'planned'), 3),\n",
       " (('encounter', 'rate', 'theory'), 2),\n",
       " (('concept', 'system', 'theory'), 2),\n",
       " (('method', 'circuit', 'theory'), 2),\n",
       " (('framing', 'theory', 'suggests'), 2),\n",
       " (('theory', 'suggests', 'way'), 2)]"
      ]
     },
     "execution_count": 17,
     "metadata": {},
     "output_type": "execute_result"
    }
   ],
   "source": [
    "#Theory in trigrams\n",
    "trigram_theories=[]\n",
    "\n",
    "for trigram in clean_abstract_trigrams:\n",
    "    if 'theory' in trigram:\n",
    "        trigram_theories.append(trigram)\n",
    "\n",
    "trigram_theory_counter = Counter(trigram_theories)\n",
    "trigram_theory_counter.most_common(20)\n",
    "#This helps me see what theories have been mentioned"
   ]
  },
  {
   "cell_type": "code",
   "execution_count": 39,
   "id": "1f677dce",
   "metadata": {},
   "outputs": [
    {
     "data": {
      "text/plain": [
       "[(('ecological', 'theory'), 42),\n",
       " (('theory', 'predicts'), 33),\n",
       " (('theory', 'suggests'), 27),\n",
       " (('circuit', 'theory'), 26),\n",
       " (('foraging', 'theory'), 14),\n",
       " (('graph', 'theory'), 13),\n",
       " (('theory', 'practice'), 12),\n",
       " (('in', 'theory'), 11),\n",
       " (('theory', 'used'), 11),\n",
       " (('based', 'theory'), 9),\n",
       " (('niche', 'theory'), 9),\n",
       " (('theory', 'ecological'), 8),\n",
       " (('theory', 'planned'), 8),\n",
       " (('network', 'theory'), 7),\n",
       " (('theory', 'empirical'), 7),\n",
       " (('ecology', 'theory'), 7),\n",
       " (('system', 'theory'), 6),\n",
       " (('theory', 'provides'), 6),\n",
       " (('conservation', 'theory'), 6),\n",
       " (('theory', 'management'), 5),\n",
       " (('using', 'theory'), 5),\n",
       " (('grounded', 'theory'), 5),\n",
       " (('identity', 'theory'), 5),\n",
       " (('theory', 'address'), 5),\n",
       " (('theory', 'we'), 5),\n",
       " (('theory', 'change'), 5),\n",
       " (('theory', 'approach'), 5),\n",
       " (('metapopulation', 'theory'), 5),\n",
       " (('general', 'theory'), 5),\n",
       " (('evolutionary', 'theory'), 5)]"
      ]
     },
     "execution_count": 39,
     "metadata": {},
     "output_type": "execute_result"
    }
   ],
   "source": [
    "#theories in bigrams\n",
    "bigram_theories=[]\n",
    "\n",
    "for bigram in clean_abstract_bigrams:\n",
    "    if 'theory' in bigram:\n",
    "        bigram_theories.append(bigram)\n",
    "\n",
    "bigram_theory_counter = Counter(bigram_theories)\n",
    "bigram_theory_counter.most_common(30)\n",
    "\n",
    "##Less useful, but suggests similar theories as trigrams"
   ]
  },
  {
   "cell_type": "code",
   "execution_count": 40,
   "id": "474232bf",
   "metadata": {},
   "outputs": [
    {
     "data": {
      "text/plain": [
       "[(('specie', 'distribution', 'model'), 160),\n",
       " (('linear', 'mixed', 'model'), 95),\n",
       " (('generalized', 'linear', 'model'), 90),\n",
       " (('generalized', 'additive', 'model'), 75),\n",
       " (('we', 'used', 'model'), 48),\n",
       " (('logistic', 'regression', 'model'), 45),\n",
       " (('mixed', 'effect', 'model'), 44),\n",
       " (('integrated', 'population', 'model'), 43),\n",
       " (('habitat', 'suitability', 'model'), 43),\n",
       " (('spatially', 'explicit', 'model'), 37),\n",
       " (('distribution', 'model', 'sdms'), 36),\n",
       " (('ecological', 'niche', 'model'), 36),\n",
       " (('hidden', 'markov', 'model'), 31),\n",
       " (('we', 'applied', 'model'), 28),\n",
       " (('random', 'forest', 'model'), 27),\n",
       " (('we', 'developed', 'model'), 23),\n",
       " (('additive', 'mixed', 'model'), 23),\n",
       " (('structural', 'equation', 'model'), 22),\n",
       " (('multispecies', 'occupancy', 'model'), 21),\n",
       " (('food', 'web', 'model'), 21),\n",
       " (('dynamic', 'occupancy', 'model'), 21),\n",
       " (('isotope', 'mixing', 'model'), 20),\n",
       " (('model', 'we', 'found'), 20),\n",
       " (('earth', 'system', 'model'), 20),\n",
       " (('additive', 'model', 'gam'), 19),\n",
       " (('matrix', 'population', 'model'), 19),\n",
       " (('bayesian', 'hierarchical', 'model'), 18),\n",
       " (('used', 'occupancy', 'model'), 17),\n",
       " (('model', 'estimate', 'abundance'), 16),\n",
       " (('hierarchical', 'bayesian', 'model'), 16)]"
      ]
     },
     "execution_count": 40,
     "metadata": {},
     "output_type": "execute_result"
    }
   ],
   "source": [
    "#models in trigrams\n",
    "#Theory in trigrams\n",
    "trigram_models=[]\n",
    "\n",
    "for trigram in clean_abstract_trigrams:\n",
    "    if 'model' in trigram:\n",
    "        trigram_models.append(trigram)\n",
    "\n",
    "trigram_model_counter = Counter(trigram_models)\n",
    "trigram_model_counter.most_common(30)"
   ]
  },
  {
   "cell_type": "code",
   "execution_count": 19,
   "id": "3227f0ed",
   "metadata": {},
   "outputs": [
    {
     "data": {
      "text/plain": [
       "[(('occupancy', 'model'), 217),\n",
       " (('the', 'model'), 207),\n",
       " (('distribution', 'model'), 202),\n",
       " (('population', 'model'), 187),\n",
       " (('model', 'estimate'), 176),\n",
       " (('linear', 'model'), 160),\n",
       " (('our', 'model'), 153),\n",
       " (('model', 'we'), 151),\n",
       " (('model', 'used'), 141),\n",
       " (('regression', 'model'), 134),\n",
       " (('used', 'model'), 131),\n",
       " (('mixed', 'model'), 128),\n",
       " (('model', 'using'), 117),\n",
       " (('model', 'based'), 104),\n",
       " (('model', 'result'), 103),\n",
       " (('model', 'predict'), 103),\n",
       " (('model', 'selection'), 97),\n",
       " (('model', 'system'), 96),\n",
       " (('model', 'specie'), 85),\n",
       " (('additive', 'model'), 84),\n",
       " (('model', 'indicated'), 84),\n",
       " (('model', 'predicted'), 82),\n",
       " (('using', 'model'), 82),\n",
       " (('model', 'included'), 82),\n",
       " (('predictive', 'model'), 79),\n",
       " (('ecosystem', 'model'), 78),\n",
       " (('bayesian', 'model'), 76),\n",
       " (('model', 'the'), 71),\n",
       " (('model', 'developed'), 69),\n",
       " (('statistical', 'model'), 68)]"
      ]
     },
     "execution_count": 19,
     "metadata": {},
     "output_type": "execute_result"
    }
   ],
   "source": [
    "\n",
    "#models in bigrams\n",
    "bigram_models=[]\n",
    "\n",
    "for bigram in clean_abstract_bigrams:\n",
    "    if 'model' in bigram:\n",
    "        bigram_models.append(bigram)\n",
    "\n",
    "bigram_model_counter = Counter(bigram_models)\n",
    "bigram_model_counter.most_common(30)"
   ]
  },
  {
   "cell_type": "code",
   "execution_count": 20,
   "id": "8a2714e5",
   "metadata": {},
   "outputs": [
    {
     "data": {
      "text/plain": [
       "18172"
      ]
     },
     "execution_count": 20,
     "metadata": {},
     "output_type": "execute_result"
    }
   ],
   "source": [
    "len(bigram_models)"
   ]
  },
  {
   "cell_type": "code",
   "execution_count": 27,
   "id": "36197a3c",
   "metadata": {},
   "outputs": [
    {
     "data": {
      "text/plain": [
       "[(('stable', 'isotope', 'analysis'), 135),\n",
       " (('principal', 'component', 'analysis'), 55),\n",
       " (('population', 'viability', 'analysis'), 45),\n",
       " (('population', 'genetic', 'analysis'), 30),\n",
       " (('social', 'network', 'analysis'), 21),\n",
       " (('our', 'analysis', 'revealed'), 21),\n",
       " (('analysis', 'molecular', 'variance'), 17),\n",
       " (('our', 'analysis', 'indicated'), 15),\n",
       " (('our', 'analysis', 'reveals'), 15),\n",
       " (('canonical', 'correspondence', 'analysis'), 14),\n",
       " (('stomach', 'content', 'analysis'), 14),\n",
       " (('component', 'analysis', 'pca'), 13),\n",
       " (('our', 'analysis', 'also'), 12),\n",
       " (('population', 'genomic', 'analysis'), 12),\n",
       " (('our', 'analysis', 'showed'), 11),\n",
       " (('linear', 'regression', 'analysis'), 11),\n",
       " (('discriminant', 'function', 'analysis'), 11),\n",
       " (('our', 'analysis', 'show'), 10),\n",
       " (('isotope', 'analysis', 'delta'), 10),\n",
       " (('time', 'series', 'analysis'), 10),\n",
       " (('analysis', 'principal', 'component'), 10),\n",
       " (('genetic', 'analysis', 'revealed'), 10),\n",
       " (('the', 'result', 'analysis'), 9),\n",
       " (('analysis', 'revealed', 'significant'), 9),\n",
       " (('analysis', 'also', 'revealed'), 9),\n",
       " (('resource', 'selection', 'analysis'), 9),\n",
       " (('isotope', 'analysis', 'sia'), 9),\n",
       " (('linear', 'discriminant', 'analysis'), 9),\n",
       " (('our', 'analysis', 'suggest'), 9),\n",
       " (('our', 'analysis', 'suggests'), 8)]"
      ]
     },
     "execution_count": 27,
     "metadata": {},
     "output_type": "execute_result"
    }
   ],
   "source": [
    "#analysis in trigrams\n",
    "trigram_analysis=[]\n",
    "\n",
    "for trigram in clean_abstract_trigrams:\n",
    "    if 'analysis' in trigram:\n",
    "        trigram_analysis.append(trigram)\n",
    "\n",
    "trigram_analysis_counter = Counter(trigram_analysis)\n",
    "trigram_analysis_counter.most_common(30)"
   ]
  },
  {
   "cell_type": "code",
   "execution_count": 28,
   "id": "772ea66a",
   "metadata": {},
   "outputs": [
    {
     "data": {
      "text/plain": [
       "[(('our', 'analysis'), 228),\n",
       " (('analysis', 'revealed'), 185),\n",
       " (('isotope', 'analysis'), 153),\n",
       " (('phylogenetic', 'analysis'), 142),\n",
       " (('genetic', 'analysis'), 116),\n",
       " (('analysis', 'indicated'), 107),\n",
       " (('network', 'analysis'), 93),\n",
       " (('analysis', 'showed'), 89),\n",
       " (('analysis', 'using'), 75),\n",
       " (('analysis', 'used'), 73),\n",
       " (('analysis', 'we'), 67),\n",
       " (('cluster', 'analysis'), 61),\n",
       " (('component', 'analysis'), 61),\n",
       " (('sensitivity', 'analysis'), 55),\n",
       " (('analysis', 'based'), 54),\n",
       " (('analysis', 'identified'), 53),\n",
       " (('data', 'analysis'), 53),\n",
       " (('multivariate', 'analysis'), 52),\n",
       " (('analysis', 'also'), 51),\n",
       " (('viability', 'analysis'), 49),\n",
       " (('analysis', 'suggest'), 48),\n",
       " (('regression', 'analysis'), 45),\n",
       " (('content', 'analysis'), 43),\n",
       " (('genomic', 'analysis'), 43),\n",
       " (('statistical', 'analysis'), 42),\n",
       " (('analysis', 'identify'), 41),\n",
       " (('analysis', 'conducted'), 41),\n",
       " (('spatial', 'analysis'), 40),\n",
       " (('comparative', 'analysis'), 38),\n",
       " (('analysis', 'show'), 37)]"
      ]
     },
     "execution_count": 28,
     "metadata": {},
     "output_type": "execute_result"
    }
   ],
   "source": [
    "#analysis in bigrams\n",
    "bigram_analysis=[]\n",
    "\n",
    "for bigram in clean_abstract_bigrams:\n",
    "    if 'analysis' in bigram:\n",
    "        bigram_analysis.append(bigram)\n",
    "\n",
    "bigram_analysis_counter = Counter(bigram_analysis)\n",
    "bigram_analysis_counter.most_common(30)"
   ]
  }
 ],
 "metadata": {
  "kernelspec": {
   "display_name": "Python 3 (ipykernel)",
   "language": "python",
   "name": "python3"
  },
  "language_info": {
   "codemirror_mode": {
    "name": "ipython",
    "version": 3
   },
   "file_extension": ".py",
   "mimetype": "text/x-python",
   "name": "python",
   "nbconvert_exporter": "python",
   "pygments_lexer": "ipython3",
   "version": "3.9.13"
  }
 },
 "nbformat": 4,
 "nbformat_minor": 5
}
